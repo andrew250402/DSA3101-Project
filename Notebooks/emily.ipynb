{
 "cells": [
  {
   "cell_type": "markdown",
   "metadata": {},
   "source": [
    "Q4. Campaign Impact Analysis \n",
    "○ What are the key performance indicators (KPIs) for assessing the success of\n",
    "marketing campaigns?\n",
    "○ Objective: Develop a framework for measuring campaign success using data\n",
    "such as engagement rate, conversion rate, and customer lifetime value (CLV).\n",
    "○ Expected Outcome: Propose actionable insights on how to improve marketing\n",
    "Strategies.\n"
   ]
  },
  {
   "cell_type": "code",
   "execution_count": 1,
   "metadata": {},
   "outputs": [],
   "source": [
    "import pandas as pd\n",
    "import matplotlib.pyplot as plt\n"
   ]
  },
  {
   "cell_type": "code",
   "execution_count": 3,
   "metadata": {},
   "outputs": [],
   "source": [
    "df_campaigns = pd.read_csv(\"../Data DSA3101/campaigns.csv\")\n",
    "df_engagement = pd.read_csv(\"../Data DSA3101/customer_engagement.csv\")"
   ]
  },
  {
   "cell_type": "code",
   "execution_count": 4,
   "metadata": {},
   "outputs": [
    {
     "name": "stdout",
     "output_type": "stream",
     "text": [
      "   campaign_id     customer_segment  \\\n",
      "0            1              Retired   \n",
      "1            2        Middle-Market   \n",
      "2            3              Retired   \n",
      "3            4     Budget-Conscious   \n",
      "4            5  Young Professionals   \n",
      "\n",
      "                                    campaign_name             campaign_type  \\\n",
      "0          Wealth Management Campaign for Retired                     Email   \n",
      "1            Auto Loan Campaign for Middle-Market  Mobile App Notifications   \n",
      "2                   Mortgage Campaign for Retired                     Email   \n",
      "3     Personal Loan Campaign for Budget-Conscious                     Email   \n",
      "4  Personal Loan Campaign for Young Professionals  Mobile App Notifications   \n",
      "\n",
      "   start_date    end_date  recommended_product_id recommended_product_name  \\\n",
      "0  2022-03-17  2022-05-04                     107        Wealth Management   \n",
      "1  2022-03-23  2022-05-02                     106                Auto Loan   \n",
      "2  2022-05-22  2022-06-26                     103                 Mortgage   \n",
      "3  2023-01-13  2023-02-21                     102            Personal Loan   \n",
      "4  2023-12-06  2024-01-13                     102            Personal Loan   \n",
      "\n",
      "   campaign_budget  total_campaign_cost  total_revenue_generated  \n",
      "0         58055.93             70597.33                 94151.78  \n",
      "1         35527.89             87461.14                184133.52  \n",
      "2         52445.28             56053.99                160828.61  \n",
      "3         57816.78             22910.89                 58342.54  \n",
      "4         36979.25             24374.42                 63738.91  \n"
     ]
    }
   ],
   "source": [
    "print(df_campaigns.head())"
   ]
  },
  {
   "cell_type": "code",
   "execution_count": null,
   "metadata": {},
   "outputs": [
    {
     "name": "stdout",
     "output_type": "stream",
     "text": [
      "   engagement_id  customer_id  campaign_id channel sent delivered opened  \\\n",
      "0              1         3110            1   Email  Yes       Yes     No   \n",
      "1              2         2468            1   Email  Yes       Yes     No   \n",
      "2              3         7168            1   Email  Yes       Yes     No   \n",
      "3              4         9616            1   Email  Yes       Yes     No   \n",
      "4              5         7365            1   Email  Yes       Yes     No   \n",
      "\n",
      "  clicked      engagement_date engagement_time conversion_status  \n",
      "0      No  2022-03-26 14:34:53        14:34:53                No  \n",
      "1      No  2022-03-29 06:49:52        06:49:52               Yes  \n",
      "2      No  2022-04-02 13:34:07        13:34:07                No  \n",
      "3      No  2022-03-26 11:50:42        11:50:42                No  \n",
      "4     Yes  2022-04-05 14:36:54        14:36:54                No  \n"
     ]
    }
   ],
   "source": [
    "print(df_engagement.head())"
   ]
  },
  {
   "cell_type": "code",
   "execution_count": null,
   "metadata": {},
   "outputs": [],
   "source": [
    "df = pd.merge(df_campaigns,df_engagement,on=\"campaign_id\")"
   ]
  },
  {
   "cell_type": "code",
   "execution_count": null,
   "metadata": {},
   "outputs": [
    {
     "name": "stdout",
     "output_type": "stream",
     "text": [
      "   campaign_id customer_segment                           campaign_name  \\\n",
      "0            1          Retired  Wealth Management Campaign for Retired   \n",
      "1            1          Retired  Wealth Management Campaign for Retired   \n",
      "2            1          Retired  Wealth Management Campaign for Retired   \n",
      "3            1          Retired  Wealth Management Campaign for Retired   \n",
      "4            1          Retired  Wealth Management Campaign for Retired   \n",
      "\n",
      "  campaign_type  start_date    end_date  recommended_product_id  \\\n",
      "0         Email  2022-03-17  2022-05-04                     107   \n",
      "1         Email  2022-03-17  2022-05-04                     107   \n",
      "2         Email  2022-03-17  2022-05-04                     107   \n",
      "3         Email  2022-03-17  2022-05-04                     107   \n",
      "4         Email  2022-03-17  2022-05-04                     107   \n",
      "\n",
      "  recommended_product_name  campaign_budget  total_campaign_cost  ...  \\\n",
      "0        Wealth Management         58055.93             70597.33  ...   \n",
      "1        Wealth Management         58055.93             70597.33  ...   \n",
      "2        Wealth Management         58055.93             70597.33  ...   \n",
      "3        Wealth Management         58055.93             70597.33  ...   \n",
      "4        Wealth Management         58055.93             70597.33  ...   \n",
      "\n",
      "   engagement_id  customer_id  channel sent delivered opened clicked  \\\n",
      "0              1         3110    Email  Yes       Yes     No      No   \n",
      "1              2         2468    Email  Yes       Yes     No      No   \n",
      "2              3         7168    Email  Yes       Yes     No      No   \n",
      "3              4         9616    Email  Yes       Yes     No      No   \n",
      "4              5         7365    Email  Yes       Yes     No     Yes   \n",
      "\n",
      "       engagement_date engagement_time conversion_status  \n",
      "0  2022-03-26 14:34:53        14:34:53                No  \n",
      "1  2022-03-29 06:49:52        06:49:52               Yes  \n",
      "2  2022-04-02 13:34:07        13:34:07                No  \n",
      "3  2022-03-26 11:50:42        11:50:42                No  \n",
      "4  2022-04-05 14:36:54        14:36:54                No  \n",
      "\n",
      "[5 rows x 21 columns]\n"
     ]
    }
   ],
   "source": [
    "print(df.head())"
   ]
  },
  {
   "cell_type": "code",
   "execution_count": null,
   "metadata": {},
   "outputs": [],
   "source": [
    "conversion_rate_name = df.groupby('campaign_name')['conversion_status'].apply(\n",
    "    lambda x: (x == 'Yes').sum() *100/ len(x)\n",
    ").reset_index()\n",
    "\n",
    "conversion_rate_name.columns = ['campaign_name', 'conversion_rate']"
   ]
  },
  {
   "cell_type": "code",
   "execution_count": null,
   "metadata": {},
   "outputs": [],
   "source": [
    "conversion_rate_type = df.groupby('campaign_type')['conversion_status'].apply(\n",
    "    lambda x: (x == 'Yes').sum() *100/ len(x)\n",
    ").reset_index()\n",
    "\n",
    "conversion_rate_type.columns = ['campaign_type', 'conversion_rate']"
   ]
  },
  {
   "cell_type": "code",
   "execution_count": null,
   "metadata": {},
   "outputs": [
    {
     "name": "stdout",
     "output_type": "stream",
     "text": [
      "                                     campaign_name  conversion_rate\n",
      "0          Auto Loan Campaign for Budget-Conscious         7.686454\n",
      "1             Auto Loan Campaign for Middle-Market         7.726269\n",
      "2       Auto Loan Campaign for Young Professionals         8.847185\n",
      "3        Credit Card Campaign for Budget-Conscious         9.365559\n",
      "4           Credit Card Campaign for Middle-Market         9.360878\n",
      "5     Credit Card Campaign for Young Professionals         8.153078\n",
      "6       Investment Product Campaign for High-Value        10.721248\n",
      "7                    Mortgage Campaign for Retired         9.299896\n",
      "8      Personal Loan Campaign for Budget-Conscious         8.238095\n",
      "9         Personal Loan Campaign for Middle-Market         9.318498\n",
      "10  Personal Loan Campaign for Young Professionals         7.414522\n",
      "11      Savings Account Campaign for Middle-Market        11.953042\n",
      "12            Savings Account Campaign for Retired        10.276297\n",
      "13       Wealth Management Campaign for High-Value         8.921933\n",
      "14          Wealth Management Campaign for Retired        10.101801\n"
     ]
    }
   ],
   "source": [
    "print(conversion_rate_name)"
   ]
  },
  {
   "cell_type": "code",
   "execution_count": null,
   "metadata": {},
   "outputs": [
    {
     "name": "stdout",
     "output_type": "stream",
     "text": [
      "              campaign_type  conversion_rate\n",
      "0               Direct Mail         6.827084\n",
      "1                     Email        11.266883\n",
      "2  Mobile App Notifications         8.241230\n",
      "3                       SMS         7.438133\n"
     ]
    }
   ],
   "source": [
    "print(conversion_rate_type)"
   ]
  }
 ],
 "metadata": {
  "kernelspec": {
   "display_name": "base",
   "language": "python",
   "name": "python3"
  },
  "language_info": {
   "codemirror_mode": {
    "name": "ipython",
    "version": 3
   },
   "file_extension": ".py",
   "mimetype": "text/x-python",
   "name": "python",
   "nbconvert_exporter": "python",
   "pygments_lexer": "ipython3",
   "version": "3.12.7"
  }
 },
 "nbformat": 4,
 "nbformat_minor": 2
}
