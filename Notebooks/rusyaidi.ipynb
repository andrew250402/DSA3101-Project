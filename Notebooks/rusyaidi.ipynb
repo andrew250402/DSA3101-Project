{
 "cells": [
  {
   "cell_type": "markdown",
   "id": "5a9a2c54-12ae-493f-bbdb-29be893d0aa7",
   "metadata": {},
   "source": [
    "# Subgroup B: Measuring Campaign ROI"
   ]
  },
  {
   "cell_type": "markdown",
   "id": "d7346a4a-8499-4c60-81c7-a63fd6b425b7",
   "metadata": {},
   "source": [
    "## Exploratory Data Analysis\n",
    "\n",
    "In this segment, data relevant to addressing the business question is loaded in and prepared for exploratory data analysis."
   ]
  },
  {
   "cell_type": "code",
   "execution_count": 1,
   "id": "6180e5cc-26ef-4259-bb68-24d199f0722d",
   "metadata": {},
   "outputs": [
    {
     "name": "stdout",
     "output_type": "stream",
     "text": [
      "C:\\Users\\rusya\\Desktop\\NUS\\Y3S2\\DSA3101\\updated_data\n",
      "   campaign_id     customer_segment  \\\n",
      "0            1              Retired   \n",
      "1            2        Middle-Market   \n",
      "2            3              Retired   \n",
      "3            4     Budget-Conscious   \n",
      "4            5  Young Professionals   \n",
      "\n",
      "                                    campaign_name             campaign_type  \\\n",
      "0          Wealth Management Campaign for Retired                     Email   \n",
      "1            Auto Loan Campaign for Middle-Market  Mobile App Notifications   \n",
      "2                   Mortgage Campaign for Retired                     Email   \n",
      "3     Personal Loan Campaign for Budget-Conscious                     Email   \n",
      "4  Personal Loan Campaign for Young Professionals  Mobile App Notifications   \n",
      "\n",
      "   start_date    end_date  recommended_product_id recommended_product_name  \\\n",
      "0  2022-03-17  2022-05-04                     107        Wealth Management   \n",
      "1  2022-03-23  2022-05-02                     106                Auto Loan   \n",
      "2  2022-05-22  2022-06-26                     103                 Mortgage   \n",
      "3  2023-01-13  2023-02-21                     102            Personal Loan   \n",
      "4  2023-12-06  2024-01-13                     102            Personal Loan   \n",
      "\n",
      "   campaign_budget  total_campaign_cost  total_revenue_generated  \n",
      "0         58055.93             70597.33                 94151.78  \n",
      "1         35527.89             87461.14                184133.52  \n",
      "2         52445.28             56053.99                160828.61  \n",
      "3         57816.78             22910.89                 58342.54  \n",
      "4         36979.25             24374.42                 63738.91  \n",
      "   engagement_id  customer_id  campaign_id channel sent delivered opened  \\\n",
      "0              1         3110            1   Email  Yes       Yes     No   \n",
      "1              2         2468            1   Email  Yes       Yes     No   \n",
      "2              3         7168            1   Email  Yes       Yes     No   \n",
      "3              4         9616            1   Email  Yes       Yes     No   \n",
      "4              5         7365            1   Email  Yes       Yes     No   \n",
      "\n",
      "  clicked      engagement_date engagement_time conversion_status  \n",
      "0      No  2022-03-26 14:34:53        14:34:53                No  \n",
      "1      No  2022-03-29 06:49:52        06:49:52               Yes  \n",
      "2      No  2022-04-02 13:34:07        13:34:07                No  \n",
      "3      No  2022-03-26 11:50:42        11:50:42                No  \n",
      "4     Yes  2022-04-05 14:36:54        14:36:54                No  \n",
      "\n",
      "\n",
      "===========================================================\n",
      "Information on campaigns dataset\n",
      "<class 'pandas.core.frame.DataFrame'>\n",
      "RangeIndex: 50 entries, 0 to 49\n",
      "Data columns (total 11 columns):\n",
      " #   Column                    Non-Null Count  Dtype  \n",
      "---  ------                    --------------  -----  \n",
      " 0   campaign_id               50 non-null     int64  \n",
      " 1   customer_segment          50 non-null     object \n",
      " 2   campaign_name             50 non-null     object \n",
      " 3   campaign_type             50 non-null     object \n",
      " 4   start_date                50 non-null     object \n",
      " 5   end_date                  50 non-null     object \n",
      " 6   recommended_product_id    50 non-null     int64  \n",
      " 7   recommended_product_name  50 non-null     object \n",
      " 8   campaign_budget           50 non-null     float64\n",
      " 9   total_campaign_cost       50 non-null     float64\n",
      " 10  total_revenue_generated   50 non-null     float64\n",
      "dtypes: float64(3), int64(2), object(6)\n",
      "memory usage: 4.4+ KB\n",
      "\n",
      "\n",
      "===========================================================\n",
      "Information on customer_engagement dataset\n",
      "<class 'pandas.core.frame.DataFrame'>\n",
      "RangeIndex: 28921 entries, 0 to 28920\n",
      "Data columns (total 11 columns):\n",
      " #   Column             Non-Null Count  Dtype \n",
      "---  ------             --------------  ----- \n",
      " 0   engagement_id      28921 non-null  int64 \n",
      " 1   customer_id        28921 non-null  int64 \n",
      " 2   campaign_id        28921 non-null  int64 \n",
      " 3   channel            28921 non-null  object\n",
      " 4   sent               28921 non-null  object\n",
      " 5   delivered          28921 non-null  object\n",
      " 6   opened             28921 non-null  object\n",
      " 7   clicked            28921 non-null  object\n",
      " 8   engagement_date    28921 non-null  object\n",
      " 9   engagement_time    28921 non-null  object\n",
      " 10  conversion_status  28921 non-null  object\n",
      "dtypes: int64(3), object(8)\n",
      "memory usage: 2.4+ MB\n"
     ]
    }
   ],
   "source": [
    "import  pandas as pd\n",
    "import numpy as np\n",
    "import os\n",
    "\n",
    "# loading in relevant datasets\n",
    "os.chdir(\"../updated_data/\")\n",
    "print(os.getcwd())\n",
    "campaigns = pd.read_csv(\"campaigns.csv\")\n",
    "customer_engagement = pd.read_csv(\"customer_engagement.csv\")\n",
    "\n",
    "print(campaigns.head())\n",
    "print(customer_engagement.head())\n",
    "print(\"\\n\")\n",
    "print(\"===========================================================\")\n",
    "print(\"Information on campaigns dataset\")\n",
    "campaigns.info()\n",
    "print(\"\\n\")\n",
    "print(\"===========================================================\")\n",
    "print(\"Information on customer_engagement dataset\")\n",
    "customer_engagement.info()"
   ]
  },
  {
   "cell_type": "markdown",
   "id": "3e8cf8e2-a89b-4ea7-a42e-e346c9d4ba3d",
   "metadata": {},
   "source": [
    "## Feature Engineering\n",
    "We ensure that columns relevant to answering our business question are created before answering the subquestion in Section B: Measuring Campaign ROI.\n",
    "In the following code block, the following features are generated: `conversion_rate`, `customer_lifetime_value` and `acquisition_cost`.\n",
    "`ROI` of past marketing campaigns are also computed, serving as the response variable on which our model will be based on."
   ]
  },
  {
   "cell_type": "markdown",
   "id": "8488747b-9fc5-40c9-9a6e-19095a1fa5d2",
   "metadata": {},
   "source": [
    "### Generating `conversion_rate`\n",
    "\n",
    "`conversion_rate` is obtained by first determining the number of customers that a campaign has engaged with a customer (i.e number of rows for where `sent` == \"Yes\", for each campaign), to give us `total_engagements`. This is derived from the `customer_engagement` dataset.\n",
    "\n",
    "The number of successful conversions is also derived from the `customer_engagement` dataset. `conversion_rate` for each campaign is then computed as follows:\n",
    "\n",
    "$$\n",
    "\\text{conversion rate} = \\frac{\\text{successful conversions}}{\\text{total engagements}}\n",
    "$$"
   ]
  },
  {
   "cell_type": "code",
   "execution_count": 2,
   "id": "2a5a8a7b-e896-4d66-b133-fedd9c9b74d1",
   "metadata": {},
   "outputs": [
    {
     "name": "stdout",
     "output_type": "stream",
     "text": [
      "   campaign_id  total_engagements\n",
      "0            1                473\n",
      "1            2                740\n",
      "2            3                946\n",
      "3            4                570\n",
      "4            5                829\n",
      "   campaign_id  successful_conversions\n",
      "0            1                      52\n",
      "1            2                      59\n",
      "2            3                     113\n",
      "3            4                      48\n",
      "4            5                      66\n",
      "   campaign_id  total_engagements  successful_conversions\n",
      "0            1                473                      52\n",
      "1            2                740                      59\n",
      "2            3                946                     113\n",
      "3            4                570                      48\n",
      "4            5                829                      66\n"
     ]
    },
    {
     "data": {
      "text/html": [
       "<div>\n",
       "<style scoped>\n",
       "    .dataframe tbody tr th:only-of-type {\n",
       "        vertical-align: middle;\n",
       "    }\n",
       "\n",
       "    .dataframe tbody tr th {\n",
       "        vertical-align: top;\n",
       "    }\n",
       "\n",
       "    .dataframe thead th {\n",
       "        text-align: right;\n",
       "    }\n",
       "</style>\n",
       "<table border=\"1\" class=\"dataframe\">\n",
       "  <thead>\n",
       "    <tr style=\"text-align: right;\">\n",
       "      <th></th>\n",
       "      <th>campaign_id</th>\n",
       "      <th>total_engagements</th>\n",
       "      <th>successful_conversions</th>\n",
       "      <th>conversion_rate</th>\n",
       "    </tr>\n",
       "  </thead>\n",
       "  <tbody>\n",
       "    <tr>\n",
       "      <th>0</th>\n",
       "      <td>1</td>\n",
       "      <td>473</td>\n",
       "      <td>52</td>\n",
       "      <td>0.109937</td>\n",
       "    </tr>\n",
       "    <tr>\n",
       "      <th>1</th>\n",
       "      <td>2</td>\n",
       "      <td>740</td>\n",
       "      <td>59</td>\n",
       "      <td>0.079730</td>\n",
       "    </tr>\n",
       "    <tr>\n",
       "      <th>2</th>\n",
       "      <td>3</td>\n",
       "      <td>946</td>\n",
       "      <td>113</td>\n",
       "      <td>0.119450</td>\n",
       "    </tr>\n",
       "    <tr>\n",
       "      <th>3</th>\n",
       "      <td>4</td>\n",
       "      <td>570</td>\n",
       "      <td>48</td>\n",
       "      <td>0.084211</td>\n",
       "    </tr>\n",
       "    <tr>\n",
       "      <th>4</th>\n",
       "      <td>5</td>\n",
       "      <td>829</td>\n",
       "      <td>66</td>\n",
       "      <td>0.079614</td>\n",
       "    </tr>\n",
       "  </tbody>\n",
       "</table>\n",
       "</div>"
      ],
      "text/plain": [
       "   campaign_id  total_engagements  successful_conversions  conversion_rate\n",
       "0            1                473                      52         0.109937\n",
       "1            2                740                      59         0.079730\n",
       "2            3                946                     113         0.119450\n",
       "3            4                570                      48         0.084211\n",
       "4            5                829                      66         0.079614"
      ]
     },
     "execution_count": 2,
     "metadata": {},
     "output_type": "execute_result"
    }
   ],
   "source": [
    "# calculating total engagements\n",
    "total_engagements = customer_engagement[customer_engagement[\"sent\"] == \"Yes\"].groupby(\"campaign_id\").size().reset_index(name = \"total_engagements\")\n",
    "print(total_engagements.head())\n",
    "\n",
    "# calculating number of successful conversions\n",
    "successful_conversions = customer_engagement[customer_engagement[\"conversion_status\"] == \"Yes\"] \\\n",
    "    .groupby(\"campaign_id\").size().reset_index(name=\"successful_conversions\")\n",
    "print(successful_conversions.head())\n",
    "\n",
    "# merging engagement data\n",
    "conversion_data = total_engagements.merge(successful_conversions, on=\"campaign_id\", how=\"left\")\n",
    "print(conversion_data.head())\n",
    "\n",
    "# in case no conversions happened for a campaign, fill NA as 0\n",
    "conversion_data[\"successful_conversions\"] = conversion_data[\"successful_conversions\"].fillna(0)\n",
    "\n",
    "# computing conversion rate\n",
    "conversion_data[\"conversion_rate\"] = conversion_data[\"successful_conversions\"] / conversion_data[\"total_engagements\"]\n",
    "conversion_data.head()"
   ]
  },
  {
   "cell_type": "markdown",
   "id": "29537911-4bd3-482d-8fe7-793e2040319b",
   "metadata": {},
   "source": [
    "### Generating `acquisition_cost`\n",
    "\n",
    "`acquisition_cost` is generated with the following formula:\n",
    "\n",
    "$$\n",
    "\\text{acquisition cost} = \\frac{\\text{total\\_campaign\\_cost}}{\\text{successful\\_conversions}}\n",
    "$$\n"
   ]
  },
  {
   "cell_type": "code",
   "execution_count": 3,
   "id": "1084b985-9ef7-40b4-8bca-9de79c4a3222",
   "metadata": {
    "scrolled": true
   },
   "outputs": [
    {
     "name": "stdout",
     "output_type": "stream",
     "text": [
      "   campaign_id  total_engagements  successful_conversions  conversion_rate  \\\n",
      "0            1                473                      52         0.109937   \n",
      "1            2                740                      59         0.079730   \n",
      "2            3                946                     113         0.119450   \n",
      "3            4                570                      48         0.084211   \n",
      "4            5                829                      66         0.079614   \n",
      "\n",
      "   total_campaign_cost  \n",
      "0             70597.33  \n",
      "1             87461.14  \n",
      "2             56053.99  \n",
      "3             22910.89  \n",
      "4             24374.42  \n"
     ]
    },
    {
     "data": {
      "text/html": [
       "<div>\n",
       "<style scoped>\n",
       "    .dataframe tbody tr th:only-of-type {\n",
       "        vertical-align: middle;\n",
       "    }\n",
       "\n",
       "    .dataframe tbody tr th {\n",
       "        vertical-align: top;\n",
       "    }\n",
       "\n",
       "    .dataframe thead th {\n",
       "        text-align: right;\n",
       "    }\n",
       "</style>\n",
       "<table border=\"1\" class=\"dataframe\">\n",
       "  <thead>\n",
       "    <tr style=\"text-align: right;\">\n",
       "      <th></th>\n",
       "      <th>campaign_id</th>\n",
       "      <th>total_engagements</th>\n",
       "      <th>successful_conversions</th>\n",
       "      <th>conversion_rate</th>\n",
       "      <th>total_campaign_cost</th>\n",
       "      <th>acquisition_cost</th>\n",
       "    </tr>\n",
       "  </thead>\n",
       "  <tbody>\n",
       "    <tr>\n",
       "      <th>0</th>\n",
       "      <td>1</td>\n",
       "      <td>473</td>\n",
       "      <td>52</td>\n",
       "      <td>0.109937</td>\n",
       "      <td>70597.33</td>\n",
       "      <td>1357.640962</td>\n",
       "    </tr>\n",
       "    <tr>\n",
       "      <th>1</th>\n",
       "      <td>2</td>\n",
       "      <td>740</td>\n",
       "      <td>59</td>\n",
       "      <td>0.079730</td>\n",
       "      <td>87461.14</td>\n",
       "      <td>1482.392203</td>\n",
       "    </tr>\n",
       "    <tr>\n",
       "      <th>2</th>\n",
       "      <td>3</td>\n",
       "      <td>946</td>\n",
       "      <td>113</td>\n",
       "      <td>0.119450</td>\n",
       "      <td>56053.99</td>\n",
       "      <td>496.053009</td>\n",
       "    </tr>\n",
       "    <tr>\n",
       "      <th>3</th>\n",
       "      <td>4</td>\n",
       "      <td>570</td>\n",
       "      <td>48</td>\n",
       "      <td>0.084211</td>\n",
       "      <td>22910.89</td>\n",
       "      <td>477.310208</td>\n",
       "    </tr>\n",
       "    <tr>\n",
       "      <th>4</th>\n",
       "      <td>5</td>\n",
       "      <td>829</td>\n",
       "      <td>66</td>\n",
       "      <td>0.079614</td>\n",
       "      <td>24374.42</td>\n",
       "      <td>369.309394</td>\n",
       "    </tr>\n",
       "  </tbody>\n",
       "</table>\n",
       "</div>"
      ],
      "text/plain": [
       "   campaign_id  total_engagements  successful_conversions  conversion_rate  \\\n",
       "0            1                473                      52         0.109937   \n",
       "1            2                740                      59         0.079730   \n",
       "2            3                946                     113         0.119450   \n",
       "3            4                570                      48         0.084211   \n",
       "4            5                829                      66         0.079614   \n",
       "\n",
       "   total_campaign_cost  acquisition_cost  \n",
       "0             70597.33       1357.640962  \n",
       "1             87461.14       1482.392203  \n",
       "2             56053.99        496.053009  \n",
       "3             22910.89        477.310208  \n",
       "4             24374.42        369.309394  "
      ]
     },
     "execution_count": 3,
     "metadata": {},
     "output_type": "execute_result"
    }
   ],
   "source": [
    "acquisition_data = conversion_data.merge(campaigns[[\"campaign_id\",\"total_campaign_cost\"]], on = \"campaign_id\")\n",
    "print(acquisition_data.head())\n",
    "\n",
    "# computing acquisition_cost\n",
    "acquisition_data[\"acquisition_cost\"] = acquisition_data[\"total_campaign_cost\"] / acquisition_data[\"successful_conversions\"]\n",
    "acquisition_data.head()"
   ]
  },
  {
   "cell_type": "markdown",
   "id": "2e060f54-dbee-429a-a1f8-138f91263da3",
   "metadata": {},
   "source": [
    "### Generating `avg_targeted_clv`\n",
    "\n",
    "`customer_lifetime_value` will first be attached to each individual customer in the `customers` dataset.\n",
    "\n",
    "In the following code block, a customer's average transaction value is calculated based on the `total_transaction_amount_12m`."
   ]
  },
  {
   "cell_type": "code",
   "execution_count": 4,
   "id": "ecf70473-2a71-4f87-ad94-dd0583dc680f",
   "metadata": {},
   "outputs": [],
   "source": [
    "# loading in customer and transaction data\n",
    "customers = pd.read_csv(\"customers.csv\")\n",
    "transactions = pd.read_csv(\"transactions_summary.csv\")\n",
    "\n",
    "# merging customer and transaction data\n",
    "customers = customers.merge(transactions, on = \"customer_id\", how = \"left\")"
   ]
  },
  {
   "cell_type": "markdown",
   "id": "437c71b6-c6f1-44e6-88a9-44a65c9d9891",
   "metadata": {},
   "source": [
    "To estimate customer_lifetime, I will be using a simplified model. \n",
    "\n",
    "`churn_prob` is estimated using the `churn threshold` of 90 days without any transaction, from the `days_since_last_transaction` column. A value of 0.8 will be assigned to customers who have not interacted with the bank for a long period of time and 0.2 will be assigned to customers who are still interacting with the bank relatively frequently.\n",
    "\n",
    "`estimated_lifetime` for each customer will be calculated using the following formula:\n",
    "\n",
    "$$\n",
    "\\text{Estimated Customer Lifetime} = \\frac{\\text{1}}{\\text{Churn Probability}}\n",
    "$$\n",
    "\n",
    "Finally, `CLV` is computed by multiplying `expected_lifetime` with `average_transaction_amount_12m`"
   ]
  },
  {
   "cell_type": "code",
   "execution_count": 5,
   "id": "83438a7e-5fed-4d57-800d-ab9385904749",
   "metadata": {},
   "outputs": [
    {
     "data": {
      "text/plain": [
       "0     702.173803\n",
       "1     133.391687\n",
       "2     572.853830\n",
       "3     458.526423\n",
       "4    1577.008438\n",
       "Name: CLV, dtype: float64"
      ]
     },
     "execution_count": 5,
     "metadata": {},
     "output_type": "execute_result"
    }
   ],
   "source": [
    "# assigning churn probability to each customer\n",
    "churn_threshold = 90\n",
    "customers[\"churn_prob\"] = np.where(customers[\"days_since_last_transaction\"] > churn_threshold, 0.8, 0.2)\n",
    "\n",
    "# computing estimated lifetime\n",
    "customers[\"expected_lifetime\"] = 1/customers[\"churn_prob\"]\n",
    "\n",
    "# computing CLV for each customer\n",
    "customers[\"CLV\"] = customers[\"expected_lifetime\"] * customers [\"average_transaction_amount_12m\"]\n",
    "\n",
    "customers[\"CLV\"].head()"
   ]
  },
  {
   "cell_type": "markdown",
   "id": "6278cdbc-10bf-4731-afef-bf1b0d63110e",
   "metadata": {},
   "source": [
    "I then generate `avg_targeted_clv` for each campaign."
   ]
  },
  {
   "cell_type": "code",
   "execution_count": 6,
   "id": "a0298853-83a5-4a1d-9a44-d9d370841719",
   "metadata": {},
   "outputs": [
    {
     "data": {
      "text/html": [
       "<div>\n",
       "<style scoped>\n",
       "    .dataframe tbody tr th:only-of-type {\n",
       "        vertical-align: middle;\n",
       "    }\n",
       "\n",
       "    .dataframe tbody tr th {\n",
       "        vertical-align: top;\n",
       "    }\n",
       "\n",
       "    .dataframe thead th {\n",
       "        text-align: right;\n",
       "    }\n",
       "</style>\n",
       "<table border=\"1\" class=\"dataframe\">\n",
       "  <thead>\n",
       "    <tr style=\"text-align: right;\">\n",
       "      <th></th>\n",
       "      <th>campaign_id</th>\n",
       "      <th>avg_targeted_clv</th>\n",
       "    </tr>\n",
       "  </thead>\n",
       "  <tbody>\n",
       "    <tr>\n",
       "      <th>0</th>\n",
       "      <td>1</td>\n",
       "      <td>927.588803</td>\n",
       "    </tr>\n",
       "    <tr>\n",
       "      <th>1</th>\n",
       "      <td>2</td>\n",
       "      <td>889.239655</td>\n",
       "    </tr>\n",
       "    <tr>\n",
       "      <th>2</th>\n",
       "      <td>3</td>\n",
       "      <td>903.921540</td>\n",
       "    </tr>\n",
       "    <tr>\n",
       "      <th>3</th>\n",
       "      <td>4</td>\n",
       "      <td>905.067445</td>\n",
       "    </tr>\n",
       "    <tr>\n",
       "      <th>4</th>\n",
       "      <td>5</td>\n",
       "      <td>945.753058</td>\n",
       "    </tr>\n",
       "  </tbody>\n",
       "</table>\n",
       "</div>"
      ],
      "text/plain": [
       "   campaign_id  avg_targeted_clv\n",
       "0            1        927.588803\n",
       "1            2        889.239655\n",
       "2            3        903.921540\n",
       "3            4        905.067445\n",
       "4            5        945.753058"
      ]
     },
     "execution_count": 6,
     "metadata": {},
     "output_type": "execute_result"
    }
   ],
   "source": [
    "# merging CLV data with customer engagement to get CLV of targeted customers\n",
    "engagement_clv = customer_engagement.merge(customers[[\"customer_id\",\"CLV\"]], on = \"customer_id\", how = \"left\")\n",
    "\n",
    "# grouping by campaign ID\n",
    "campaign_clv = engagement_clv.groupby(\"campaign_id\")[\"CLV\"].mean().reset_index()\n",
    "campaign_clv.rename(columns = {\"CLV\": \"avg_targeted_clv\"}, inplace = True)\n",
    "campaign_clv.head()"
   ]
  },
  {
   "cell_type": "markdown",
   "id": "c50fd715-fa72-40b5-b314-82ee84be20fb",
   "metadata": {},
   "source": [
    "### Generating `ROI` for past marketing campaigns\n",
    "\n",
    "ROI is calculated using data from the `campaigns` dataset. The formula used is as follows:\n",
    "\n",
    "$$\n",
    "\\text{ROI} = \\frac{\\text{revenue} - \\text{cost}}{\\text{cost}}\n",
    "$$"
   ]
  },
  {
   "cell_type": "code",
   "execution_count": 14,
   "id": "af30c955-8928-4f5c-80af-9c91f856bb1a",
   "metadata": {},
   "outputs": [
    {
     "name": "stderr",
     "output_type": "stream",
     "text": [
      "C:\\Users\\rusya\\AppData\\Local\\Temp\\ipykernel_23548\\2772495362.py:2: SettingWithCopyWarning: \n",
      "A value is trying to be set on a copy of a slice from a DataFrame.\n",
      "Try using .loc[row_indexer,col_indexer] = value instead\n",
      "\n",
      "See the caveats in the documentation: https://pandas.pydata.org/pandas-docs/stable/user_guide/indexing.html#returning-a-view-versus-a-copy\n",
      "  roi_data[\"roi\"] = (roi_data[\"total_revenue_generated\"] - roi_data[\"total_campaign_cost\"])/roi_data[\"total_campaign_cost\"]\n"
     ]
    },
    {
     "data": {
      "text/html": [
       "<div>\n",
       "<style scoped>\n",
       "    .dataframe tbody tr th:only-of-type {\n",
       "        vertical-align: middle;\n",
       "    }\n",
       "\n",
       "    .dataframe tbody tr th {\n",
       "        vertical-align: top;\n",
       "    }\n",
       "\n",
       "    .dataframe thead th {\n",
       "        text-align: right;\n",
       "    }\n",
       "</style>\n",
       "<table border=\"1\" class=\"dataframe\">\n",
       "  <thead>\n",
       "    <tr style=\"text-align: right;\">\n",
       "      <th></th>\n",
       "      <th>campaign_id</th>\n",
       "      <th>total_campaign_cost</th>\n",
       "      <th>total_revenue_generated</th>\n",
       "      <th>roi</th>\n",
       "    </tr>\n",
       "  </thead>\n",
       "  <tbody>\n",
       "    <tr>\n",
       "      <th>0</th>\n",
       "      <td>1</td>\n",
       "      <td>70597.33</td>\n",
       "      <td>94151.78</td>\n",
       "      <td>0.333645</td>\n",
       "    </tr>\n",
       "    <tr>\n",
       "      <th>1</th>\n",
       "      <td>2</td>\n",
       "      <td>87461.14</td>\n",
       "      <td>184133.52</td>\n",
       "      <td>1.105318</td>\n",
       "    </tr>\n",
       "    <tr>\n",
       "      <th>2</th>\n",
       "      <td>3</td>\n",
       "      <td>56053.99</td>\n",
       "      <td>160828.61</td>\n",
       "      <td>1.869173</td>\n",
       "    </tr>\n",
       "    <tr>\n",
       "      <th>3</th>\n",
       "      <td>4</td>\n",
       "      <td>22910.89</td>\n",
       "      <td>58342.54</td>\n",
       "      <td>1.546498</td>\n",
       "    </tr>\n",
       "    <tr>\n",
       "      <th>4</th>\n",
       "      <td>5</td>\n",
       "      <td>24374.42</td>\n",
       "      <td>63738.91</td>\n",
       "      <td>1.614992</td>\n",
       "    </tr>\n",
       "  </tbody>\n",
       "</table>\n",
       "</div>"
      ],
      "text/plain": [
       "   campaign_id  total_campaign_cost  total_revenue_generated       roi\n",
       "0            1             70597.33                 94151.78  0.333645\n",
       "1            2             87461.14                184133.52  1.105318\n",
       "2            3             56053.99                160828.61  1.869173\n",
       "3            4             22910.89                 58342.54  1.546498\n",
       "4            5             24374.42                 63738.91  1.614992"
      ]
     },
     "execution_count": 14,
     "metadata": {},
     "output_type": "execute_result"
    }
   ],
   "source": [
    "roi_data = campaigns[[\"campaign_id\",\"total_campaign_cost\",\"total_revenue_generated\"]]\n",
    "roi_data[\"roi\"] = (roi_data[\"total_revenue_generated\"] - roi_data[\"total_campaign_cost\"])/roi_data[\"total_campaign_cost\"]\n",
    "roi_data.head()"
   ]
  },
  {
   "cell_type": "markdown",
   "id": "1aa3e714-049c-4e3d-b764-742e9b5b2824",
   "metadata": {},
   "source": [
    "## Data Preparation for Machine Learning\n",
    "\n",
    "Here, we further manipulate and select features from the `campaigns` dataset with all the feature engineered features above. This dataset will be used for model training."
   ]
  },
  {
   "cell_type": "code",
   "execution_count": 26,
   "id": "c9a22413-dc44-471e-a55e-8eb714f5c818",
   "metadata": {},
   "outputs": [
    {
     "name": "stdout",
     "output_type": "stream",
     "text": [
      "   campaign_id                                   campaign_name  start_date  \\\n",
      "0            1          Wealth Management Campaign for Retired  2022-03-17   \n",
      "1            2            Auto Loan Campaign for Middle-Market  2022-03-23   \n",
      "2            3                   Mortgage Campaign for Retired  2022-05-22   \n",
      "3            4     Personal Loan Campaign for Budget-Conscious  2023-01-13   \n",
      "4            5  Personal Loan Campaign for Young Professionals  2023-12-06   \n",
      "\n",
      "     end_date  recommended_product_id  campaign_budget  total_campaign_cost  \\\n",
      "0  2022-05-04                     107         58055.93             70597.33   \n",
      "1  2022-05-02                     106         35527.89             87461.14   \n",
      "2  2022-06-26                     103         52445.28             56053.99   \n",
      "3  2023-02-21                     102         57816.78             22910.89   \n",
      "4  2024-01-13                     102         36979.25             24374.42   \n",
      "\n",
      "   total_revenue_generated  campaign_type_Email  \\\n",
      "0                 94151.78                 True   \n",
      "1                184133.52                False   \n",
      "2                160828.61                 True   \n",
      "3                 58342.54                 True   \n",
      "4                 63738.91                False   \n",
      "\n",
      "   campaign_type_Mobile App Notifications  ...  product_Credit Card  \\\n",
      "0                                   False  ...                False   \n",
      "1                                    True  ...                False   \n",
      "2                                   False  ...                False   \n",
      "3                                   False  ...                False   \n",
      "4                                    True  ...                False   \n",
      "\n",
      "   product_Investment Product  product_Mortgage  product_Personal Loan  \\\n",
      "0                       False             False                  False   \n",
      "1                       False             False                  False   \n",
      "2                       False              True                  False   \n",
      "3                       False             False                   True   \n",
      "4                       False             False                   True   \n",
      "\n",
      "   product_Savings Account  product_Wealth Management  \\\n",
      "0                    False                       True   \n",
      "1                    False                      False   \n",
      "2                    False                      False   \n",
      "3                    False                      False   \n",
      "4                    False                      False   \n",
      "\n",
      "   customer_segment_High-Value  customer_segment_Middle-Market  \\\n",
      "0                        False                           False   \n",
      "1                        False                            True   \n",
      "2                        False                           False   \n",
      "3                        False                           False   \n",
      "4                        False                           False   \n",
      "\n",
      "   customer_segment_Retired  customer_segment_Young Professionals  \n",
      "0                      True                                 False  \n",
      "1                     False                                 False  \n",
      "2                      True                                 False  \n",
      "3                     False                                 False  \n",
      "4                     False                                  True  \n",
      "\n",
      "[5 rows x 21 columns]\n"
     ]
    },
    {
     "data": {
      "text/plain": [
       "Index(['campaign_id', 'campaign_name', 'start_date', 'end_date',\n",
       "       'recommended_product_id', 'campaign_budget', 'total_campaign_cost',\n",
       "       'total_revenue_generated', 'campaign_type_Email',\n",
       "       'campaign_type_Mobile App Notifications', 'campaign_type_SMS',\n",
       "       'product_Credit Card', 'product_Investment Product', 'product_Mortgage',\n",
       "       'product_Personal Loan', 'product_Savings Account',\n",
       "       'product_Wealth Management', 'customer_segment_High-Value',\n",
       "       'customer_segment_Middle-Market', 'customer_segment_Retired',\n",
       "       'customer_segment_Young Professionals', 'campaign_duration',\n",
       "       'conversion_rate', 'acquisition_cost', 'avg_targeted_clv'],\n",
       "      dtype='object')"
      ]
     },
     "execution_count": 26,
     "metadata": {},
     "output_type": "execute_result"
    }
   ],
   "source": [
    "## manipulation of dataframes to create X\n",
    "from sklearn.preprocessing import OneHotEncoder\n",
    "\n",
    "# One-hot encode campaign_type\n",
    "campaigns_encoded = pd.get_dummies(campaigns, columns = [\"campaign_type\"], drop_first = True)\n",
    "\n",
    "# One-hot encode product\n",
    "campaigns_encoded.rename(columns = {\"recommended_product_name\": \"product\"}, inplace = True)\n",
    "campaigns_encoded = pd.get_dummies(campaigns_encoded, columns=['product'], drop_first=True)\n",
    "\n",
    "# One-hot encode customer_segment\n",
    "campaigns_encoded = pd.get_dummies(campaigns_encoded, columns = ['customer_segment'], drop_first = True)\n",
    "print(campaigns_encoded.head())\n",
    "\n",
    "# compute campaign_duration\n",
    "campaigns_encoded[\"start_date\"] = pd.to_datetime(campaigns_encoded[\"start_date\"])\n",
    "campaigns_encoded[\"end_date\"] = pd.to_datetime(campaigns_encoded[\"end_date\"])\n",
    "\n",
    "campaigns_encoded[\"campaign_duration\"] = (campaigns_encoded[\"end_date\"] - campaigns_encoded[\"start_date\"]).dt.days\n",
    "\n",
    "# merging with feature engineered columns\n",
    "campaigns_encoded = campaigns_encoded.merge(conversion_data[[\"campaign_id\",\"conversion_rate\"]], on = \"campaign_id\", how = \"left\")\n",
    "campaigns_encoded = campaigns_encoded.merge(acquisition_data[[\"campaign_id\",\"acquisition_cost\"]], on = \"campaign_id\", how = \"left\")\n",
    "campaigns_encoded = campaigns_encoded.merge(campaign_clv[[\"campaign_id\",\"avg_targeted_clv\"]], on = \"campaign_id\", how = \"left\")\n",
    "\n",
    "campaigns_encoded.columns\n"
   ]
  },
  {
   "cell_type": "code",
   "execution_count": 102,
   "id": "ca5121fb-fafa-49f0-a85b-6fbed17494be",
   "metadata": {},
   "outputs": [],
   "source": [
    "features = [\"total_campaign_cost\", \"campaign_duration\",\n",
    "       'conversion_rate', 'acquisition_cost', 'avg_targeted_clv']\n",
    "customer_segments = ['customer_segment_High-Value',\n",
    "       'customer_segment_Middle-Market', 'customer_segment_Retired',\n",
    "       'customer_segment_Young Professionals']\n",
    "products = ['product_Credit Card', 'product_Investment Product', 'product_Mortgage',\n",
    "       'product_Personal Loan', 'product_Savings Account',\n",
    "       'product_Wealth Management']\n",
    "campaign_types = ['campaign_type_Email',\n",
    "       'campaign_type_Mobile App Notifications', 'campaign_type_SMS']\n",
    "\n",
    "selected_features = features"
   ]
  },
  {
   "cell_type": "markdown",
   "id": "c31976c0-2590-4a35-87e9-bdf6191c8f32",
   "metadata": {},
   "source": [
    "## Model Implementation (Random Forests)\n"
   ]
  },
  {
   "cell_type": "code",
   "execution_count": 104,
   "id": "b67adfe4-b47a-4a3d-9ab9-fe716b3f40f2",
   "metadata": {},
   "outputs": [
    {
     "name": "stdout",
     "output_type": "stream",
     "text": [
      "0.47073164287851704\n",
      "-0.33115492761937215\n"
     ]
    }
   ],
   "source": [
    "from sklearn.model_selection import train_test_split\n",
    "from sklearn.ensemble import RandomForestRegressor\n",
    "from sklearn.metrics import mean_absolute_error, mean_squared_error, r2_score\n",
    "\n",
    "# selecting features, creating target variable\n",
    "X = campaigns_encoded[selected_features]\n",
    "y = roi_data[\"roi\"]\n",
    "\n",
    "X_train, X_test, y_train, y_test = train_test_split(X, y, test_size=0.2, random_state=42)\n",
    "\n",
    "# Initialize model\n",
    "model = RandomForestRegressor(n_estimators=50, random_state=42)\n",
    "\n",
    "# Train model\n",
    "model.fit(X_train, y_train)\n",
    "\n",
    "# Predict on test data\n",
    "y_pred = model.predict(X_test)\n",
    "\n",
    "mae = mean_absolute_error(y_test, y_pred)\n",
    "print(mae)\n",
    "r2 = r2_score(y_test, y_pred)\n",
    "print(r2)"
   ]
  },
  {
   "cell_type": "markdown",
   "id": "169ae677-20e3-4f71-8ccc-c698a438668b",
   "metadata": {},
   "source": [
    "The model is performing very poorly. Some troubleshooting:"
   ]
  },
  {
   "cell_type": "code",
   "execution_count": 97,
   "id": "a2290ea4-5384-4e7b-88ad-fd50dcdc18de",
   "metadata": {},
   "outputs": [
    {
     "name": "stdout",
     "output_type": "stream",
     "text": [
      "total_campaign_cost                       0.213285\n",
      "conversion_rate                           0.165413\n",
      "avg_targeted_clv                          0.162451\n",
      "campaign_duration                         0.133169\n",
      "acquisition_cost                          0.114688\n",
      "campaign_type_Mobile App Notifications    0.054821\n",
      "customer_segment_Retired                  0.048003\n",
      "campaign_type_SMS                         0.018856\n",
      "product_Mortgage                          0.015572\n",
      "customer_segment_Young Professionals      0.012021\n",
      "customer_segment_Middle-Market            0.010495\n",
      "product_Personal Loan                     0.009862\n",
      "product_Wealth Management                 0.009841\n",
      "product_Credit Card                       0.007866\n",
      "customer_segment_High-Value               0.007281\n",
      "product_Investment Product                0.005565\n",
      "product_Savings Account                   0.005438\n",
      "campaign_type_Email                       0.005373\n",
      "dtype: float64\n"
     ]
    }
   ],
   "source": [
    "feature_importances = pd.Series(model.feature_importances_, index=selected_features)\n",
    "print(feature_importances.sort_values(ascending=False))"
   ]
  },
  {
   "cell_type": "markdown",
   "id": "015d36b4-2b87-4745-914e-250b6691681d",
   "metadata": {},
   "source": [
    "Removing features with importance less than 0.01:"
   ]
  },
  {
   "cell_type": "code",
   "execution_count": 98,
   "id": "319feef5-c664-4393-8ee0-bf0158fe0b48",
   "metadata": {},
   "outputs": [
    {
     "data": {
      "text/plain": [
       "['total_campaign_cost',\n",
       " 'campaign_duration',\n",
       " 'conversion_rate',\n",
       " 'acquisition_cost',\n",
       " 'avg_targeted_clv',\n",
       " 'customer_segment_Middle-Market',\n",
       " 'customer_segment_Retired',\n",
       " 'customer_segment_Young Professionals',\n",
       " 'product_Mortgage',\n",
       " 'campaign_type_Mobile App Notifications',\n",
       " 'campaign_type_SMS']"
      ]
     },
     "execution_count": 98,
     "metadata": {},
     "output_type": "execute_result"
    }
   ],
   "source": [
    "selected_features = feature_importances[feature_importances > 0.01].index.tolist()\n",
    "selected_features"
   ]
  },
  {
   "cell_type": "code",
   "execution_count": 101,
   "id": "6995bb02-3310-4bbd-9361-3e4cc5b0a3a1",
   "metadata": {},
   "outputs": [
    {
     "name": "stdout",
     "output_type": "stream",
     "text": [
      "Fitting 5 folds for each of 144 candidates, totalling 720 fits\n",
      "Best Parameters: {'bootstrap': True, 'max_depth': 10, 'max_features': 'sqrt', 'min_samples_leaf': 2, 'min_samples_split': 5, 'n_estimators': 300}\n",
      "Tuned Model MAE: 0.5341973191474929\n",
      "Tuned Model R²: -0.6061821357528767\n"
     ]
    }
   ],
   "source": [
    "from sklearn.model_selection import GridSearchCV\n",
    "from sklearn.ensemble import RandomForestRegressor\n",
    "\n",
    "# Define hyperparameter grid (smaller range than RandomizedSearchCV for efficiency)\n",
    "param_grid = {\n",
    "    \"n_estimators\": [100, 200, 300],  # Number of trees\n",
    "    \"max_depth\": [10, 20, None],  # Tree depth\n",
    "    \"min_samples_split\": [2, 5],  # Min samples to split a node\n",
    "    \"min_samples_leaf\": [1, 2],  # Min samples at a leaf node\n",
    "    \"max_features\": [\"sqrt\", \"log2\"],  # Number of features per split\n",
    "    \"bootstrap\": [True, False]  # Whether to use bootstrapping\n",
    "}\n",
    "\n",
    "# Initialize RandomForestRegressor\n",
    "rf = RandomForestRegressor(random_state=1)\n",
    "\n",
    "# Perform Grid Search with 5-fold Cross-Validation\n",
    "grid_search = GridSearchCV(\n",
    "    estimator=rf,\n",
    "    param_grid=param_grid,\n",
    "    cv=5,  # 5-fold cross-validation\n",
    "    verbose=2,\n",
    "    n_jobs=-1  # Use all available CPU cores\n",
    ")\n",
    "\n",
    "# Fit to training data\n",
    "grid_search.fit(X_train, y_train)\n",
    "\n",
    "# Best hyperparameters\n",
    "print(\"Best Parameters:\", grid_search.best_params_)\n",
    "\n",
    "# Use best model\n",
    "best_rf = grid_search.best_estimator_\n",
    "\n",
    "# Predict on test set\n",
    "y_pred = best_rf.predict(X_test)\n",
    "\n",
    "# Evaluate performance\n",
    "mae = mean_absolute_error(y_test, y_pred)\n",
    "r2 = r2_score(y_test, y_pred)\n",
    "print(\"Tuned Model MAE:\", mae)\n",
    "print(\"Tuned Model R²:\", r2)\n"
   ]
  },
  {
   "cell_type": "code",
   "execution_count": 85,
   "id": "35706c3c-cb81-455b-b650-1fbfe821b26a",
   "metadata": {},
   "outputs": [
    {
     "name": "stdout",
     "output_type": "stream",
     "text": [
      "XGBoost R²: -1.139314371935932\n",
      "XGBoost MAE: 0.6396177241726749\n"
     ]
    }
   ],
   "source": [
    "from xgboost import XGBRegressor\n",
    "\n",
    "xgb_model = XGBRegressor(n_estimators=100, learning_rate=0.1, max_depth=6, random_state=1)\n",
    "xgb_model.fit(X_train, y_train)\n",
    "y_pred_xgb = xgb_model.predict(X_test)\n",
    "\n",
    "print(\"XGBoost R²:\", r2_score(y_test, y_pred_xgb))\n",
    "print(\"XGBoost MAE:\", mean_absolute_error(y_test, y_pred_xgb))\n"
   ]
  }
 ],
 "metadata": {
  "kernelspec": {
   "display_name": "Python 3 (ipykernel)",
   "language": "python",
   "name": "python3"
  },
  "language_info": {
   "codemirror_mode": {
    "name": "ipython",
    "version": 3
   },
   "file_extension": ".py",
   "mimetype": "text/x-python",
   "name": "python",
   "nbconvert_exporter": "python",
   "pygments_lexer": "ipython3",
   "version": "3.12.7"
  }
 },
 "nbformat": 4,
 "nbformat_minor": 5
}
