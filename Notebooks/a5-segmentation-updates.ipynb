{
 "cells": [
  {
   "cell_type": "code",
   "execution_count": 1,
   "metadata": {},
   "outputs": [],
   "source": [
    "# Import packages\n",
    "import numpy as np\n",
    "import pandas as pd\n",
    "import os\n",
    "import seaborn as sns\n",
    "import matplotlib.pyplot as plt\n",
    "\n",
    "from sklearn.cluster import AgglomerativeClustering, Birch\n",
    "from sklearn.decomposition import PCA\n",
    "from sklearn.preprocessing import StandardScaler\n",
    "from scipy.cluster.hierarchy import linkage, dendrogram"
   ]
  },
  {
   "cell_type": "code",
   "execution_count": 2,
   "metadata": {},
   "outputs": [
    {
     "name": "stdout",
     "output_type": "stream",
     "text": [
      "c:\\Users\\inbam\\Desktop\\DSA3101-Project-main\\Data DSA3101\n",
      "c:\\Users\\inbam\\Desktop\\DSA3101-Project-main\\Data DSA3101\n"
     ]
    }
   ],
   "source": [
    "# Set path\n",
    "path = os.getcwd()\n",
    "folder = 'Data DSA3101'\n",
    "data_directory = os.path.join(path, folder)\n",
    "os.chdir(data_directory)\n",
    "print(data_directory)\n",
    "print(os.getcwd())"
   ]
  },
  {
   "cell_type": "code",
   "execution_count": 3,
   "metadata": {},
   "outputs": [
    {
     "data": {
      "text/html": [
       "<div>\n",
       "<style scoped>\n",
       "    .dataframe tbody tr th:only-of-type {\n",
       "        vertical-align: middle;\n",
       "    }\n",
       "\n",
       "    .dataframe tbody tr th {\n",
       "        vertical-align: top;\n",
       "    }\n",
       "\n",
       "    .dataframe thead th {\n",
       "        text-align: right;\n",
       "    }\n",
       "</style>\n",
       "<table border=\"1\" class=\"dataframe\">\n",
       "  <thead>\n",
       "    <tr style=\"text-align: right;\">\n",
       "      <th></th>\n",
       "      <th>customer_id</th>\n",
       "      <th>age</th>\n",
       "      <th>job</th>\n",
       "      <th>marital</th>\n",
       "      <th>education</th>\n",
       "      <th>credit_default</th>\n",
       "      <th>customer_segment</th>\n",
       "      <th>region</th>\n",
       "      <th>income</th>\n",
       "      <th>credit_card</th>\n",
       "      <th>personal_loan</th>\n",
       "      <th>mortgage</th>\n",
       "      <th>savings_account</th>\n",
       "      <th>investment_product</th>\n",
       "      <th>auto_loan</th>\n",
       "      <th>wealth_management</th>\n",
       "    </tr>\n",
       "  </thead>\n",
       "  <tbody>\n",
       "    <tr>\n",
       "      <th>0</th>\n",
       "      <td>1</td>\n",
       "      <td>38</td>\n",
       "      <td>blue-collar</td>\n",
       "      <td>married</td>\n",
       "      <td>secondary</td>\n",
       "      <td>0</td>\n",
       "      <td>High-Value</td>\n",
       "      <td>Urban</td>\n",
       "      <td>2603</td>\n",
       "      <td>1</td>\n",
       "      <td>1</td>\n",
       "      <td>1</td>\n",
       "      <td>1</td>\n",
       "      <td>1</td>\n",
       "      <td>1</td>\n",
       "      <td>1</td>\n",
       "    </tr>\n",
       "    <tr>\n",
       "      <th>2</th>\n",
       "      <td>3</td>\n",
       "      <td>73</td>\n",
       "      <td>services</td>\n",
       "      <td>divorced</td>\n",
       "      <td>secondary</td>\n",
       "      <td>0</td>\n",
       "      <td>Budget-Conscious</td>\n",
       "      <td>Urban</td>\n",
       "      <td>3130</td>\n",
       "      <td>1</td>\n",
       "      <td>0</td>\n",
       "      <td>0</td>\n",
       "      <td>0</td>\n",
       "      <td>1</td>\n",
       "      <td>1</td>\n",
       "      <td>0</td>\n",
       "    </tr>\n",
       "    <tr>\n",
       "      <th>3</th>\n",
       "      <td>4</td>\n",
       "      <td>87</td>\n",
       "      <td>retired</td>\n",
       "      <td>married</td>\n",
       "      <td>primary</td>\n",
       "      <td>0</td>\n",
       "      <td>Retired</td>\n",
       "      <td>Urban</td>\n",
       "      <td>2401</td>\n",
       "      <td>1</td>\n",
       "      <td>1</td>\n",
       "      <td>0</td>\n",
       "      <td>1</td>\n",
       "      <td>0</td>\n",
       "      <td>0</td>\n",
       "      <td>0</td>\n",
       "    </tr>\n",
       "    <tr>\n",
       "      <th>5</th>\n",
       "      <td>6</td>\n",
       "      <td>46</td>\n",
       "      <td>technician</td>\n",
       "      <td>married</td>\n",
       "      <td>tertiary</td>\n",
       "      <td>0</td>\n",
       "      <td>Middle-Market</td>\n",
       "      <td>Urban</td>\n",
       "      <td>3355</td>\n",
       "      <td>1</td>\n",
       "      <td>1</td>\n",
       "      <td>0</td>\n",
       "      <td>1</td>\n",
       "      <td>0</td>\n",
       "      <td>1</td>\n",
       "      <td>1</td>\n",
       "    </tr>\n",
       "    <tr>\n",
       "      <th>6</th>\n",
       "      <td>7</td>\n",
       "      <td>70</td>\n",
       "      <td>admin</td>\n",
       "      <td>married</td>\n",
       "      <td>tertiary</td>\n",
       "      <td>0</td>\n",
       "      <td>Budget-Conscious</td>\n",
       "      <td>Urban</td>\n",
       "      <td>4918</td>\n",
       "      <td>1</td>\n",
       "      <td>1</td>\n",
       "      <td>1</td>\n",
       "      <td>1</td>\n",
       "      <td>0</td>\n",
       "      <td>1</td>\n",
       "      <td>0</td>\n",
       "    </tr>\n",
       "  </tbody>\n",
       "</table>\n",
       "</div>"
      ],
      "text/plain": [
       "   customer_id  age          job   marital  education  credit_default  \\\n",
       "0            1   38  blue-collar   married  secondary               0   \n",
       "2            3   73     services  divorced  secondary               0   \n",
       "3            4   87      retired   married    primary               0   \n",
       "5            6   46   technician   married   tertiary               0   \n",
       "6            7   70        admin   married   tertiary               0   \n",
       "\n",
       "   customer_segment region  income  credit_card  personal_loan  mortgage  \\\n",
       "0        High-Value  Urban    2603            1              1         1   \n",
       "2  Budget-Conscious  Urban    3130            1              0         0   \n",
       "3           Retired  Urban    2401            1              1         0   \n",
       "5     Middle-Market  Urban    3355            1              1         0   \n",
       "6  Budget-Conscious  Urban    4918            1              1         1   \n",
       "\n",
       "   savings_account  investment_product  auto_loan  wealth_management  \n",
       "0                1                   1          1                  1  \n",
       "2                0                   1          1                  0  \n",
       "3                1                   0          0                  0  \n",
       "5                1                   0          1                  1  \n",
       "6                1                   0          1                  0  "
      ]
     },
     "execution_count": 3,
     "metadata": {},
     "output_type": "execute_result"
    }
   ],
   "source": [
    "# Load data\n",
    "customer_data = pd.read_csv('customers.csv')\n",
    "transaction_data = pd.read_csv('transactions_summary.csv')\n",
    "\n",
    "# Data cleaning and processing\n",
    "customer_columns_to_convert = ['credit_default', 'credit_card', 'personal_loan', 'mortgage', 'savings_account', 'investment_product', 'auto_loan', 'wealth_management']\n",
    "customer_data[customer_columns_to_convert] = customer_data[customer_columns_to_convert].replace({'yes': 1, 'no': 0})\n",
    "customer_data = customer_data[customer_data['income'] >= 0]\n",
    "customer_data = customer_data[customer_data['age'] >= 21]\n",
    "customer_data = customer_data[customer_data['created_at'] < '2025-03-01']\n",
    "customer_data = customer_data.drop(columns=['created_at'])\n",
    "\n",
    "# Show first few entries\n",
    "customer_data.head()"
   ]
  },
  {
   "cell_type": "code",
   "execution_count": 4,
   "metadata": {},
   "outputs": [
    {
     "data": {
      "text/html": [
       "<div>\n",
       "<style scoped>\n",
       "    .dataframe tbody tr th:only-of-type {\n",
       "        vertical-align: middle;\n",
       "    }\n",
       "\n",
       "    .dataframe tbody tr th {\n",
       "        vertical-align: top;\n",
       "    }\n",
       "\n",
       "    .dataframe thead th {\n",
       "        text-align: right;\n",
       "    }\n",
       "</style>\n",
       "<table border=\"1\" class=\"dataframe\">\n",
       "  <thead>\n",
       "    <tr style=\"text-align: right;\">\n",
       "      <th></th>\n",
       "      <th>customer_id</th>\n",
       "      <th>has_mobile_app</th>\n",
       "      <th>has_web_account</th>\n",
       "      <th>mobile_logins_per_week</th>\n",
       "      <th>web_logins_per_week</th>\n",
       "      <th>avg_mobile_session_duration</th>\n",
       "      <th>avg_web_session_duration</th>\n",
       "    </tr>\n",
       "  </thead>\n",
       "  <tbody>\n",
       "    <tr>\n",
       "      <th>0</th>\n",
       "      <td>1</td>\n",
       "      <td>1</td>\n",
       "      <td>1</td>\n",
       "      <td>10</td>\n",
       "      <td>5</td>\n",
       "      <td>3.5</td>\n",
       "      <td>6.1</td>\n",
       "    </tr>\n",
       "    <tr>\n",
       "      <th>1</th>\n",
       "      <td>2</td>\n",
       "      <td>1</td>\n",
       "      <td>1</td>\n",
       "      <td>9</td>\n",
       "      <td>4</td>\n",
       "      <td>4.5</td>\n",
       "      <td>3.9</td>\n",
       "    </tr>\n",
       "    <tr>\n",
       "      <th>2</th>\n",
       "      <td>3</td>\n",
       "      <td>1</td>\n",
       "      <td>1</td>\n",
       "      <td>6</td>\n",
       "      <td>10</td>\n",
       "      <td>2.5</td>\n",
       "      <td>5.4</td>\n",
       "    </tr>\n",
       "    <tr>\n",
       "      <th>3</th>\n",
       "      <td>4</td>\n",
       "      <td>1</td>\n",
       "      <td>1</td>\n",
       "      <td>6</td>\n",
       "      <td>8</td>\n",
       "      <td>3.0</td>\n",
       "      <td>6.8</td>\n",
       "    </tr>\n",
       "    <tr>\n",
       "      <th>4</th>\n",
       "      <td>5</td>\n",
       "      <td>1</td>\n",
       "      <td>1</td>\n",
       "      <td>11</td>\n",
       "      <td>6</td>\n",
       "      <td>1.3</td>\n",
       "      <td>1.6</td>\n",
       "    </tr>\n",
       "  </tbody>\n",
       "</table>\n",
       "</div>"
      ],
      "text/plain": [
       "   customer_id  has_mobile_app  has_web_account  mobile_logins_per_week  \\\n",
       "0            1               1                1                      10   \n",
       "1            2               1                1                       9   \n",
       "2            3               1                1                       6   \n",
       "3            4               1                1                       6   \n",
       "4            5               1                1                      11   \n",
       "\n",
       "   web_logins_per_week  avg_mobile_session_duration  avg_web_session_duration  \n",
       "0                    5                          3.5                       6.1  \n",
       "1                    4                          4.5                       3.9  \n",
       "2                   10                          2.5                       5.4  \n",
       "3                    8                          3.0                       6.8  \n",
       "4                    6                          1.3                       1.6  "
      ]
     },
     "execution_count": 4,
     "metadata": {},
     "output_type": "execute_result"
    }
   ],
   "source": [
    "# Load data\n",
    "usage_data = pd.read_csv('digital_usage.csv')\n",
    "\n",
    "# Data cleaning and processing\n",
    "usage_columns_to_convert = ['has_mobile_app', 'has_web_account']\n",
    "usage_data[usage_columns_to_convert] = usage_data[usage_columns_to_convert].replace({'Yes': 1, 'No': 0})\n",
    "usage_data = usage_data.drop(columns=['last_mobile_login', 'last_web_login'])\n",
    "\n",
    "# Show first few entries\n",
    "usage_data.head()"
   ]
  },
  {
   "cell_type": "code",
   "execution_count": 5,
   "metadata": {},
   "outputs": [
    {
     "data": {
      "text/html": [
       "<div>\n",
       "<style scoped>\n",
       "    .dataframe tbody tr th:only-of-type {\n",
       "        vertical-align: middle;\n",
       "    }\n",
       "\n",
       "    .dataframe tbody tr th {\n",
       "        vertical-align: top;\n",
       "    }\n",
       "\n",
       "    .dataframe thead th {\n",
       "        text-align: right;\n",
       "    }\n",
       "</style>\n",
       "<table border=\"1\" class=\"dataframe\">\n",
       "  <thead>\n",
       "    <tr style=\"text-align: right;\">\n",
       "      <th></th>\n",
       "      <th>customer_id</th>\n",
       "      <th>days_since_last_transaction</th>\n",
       "      <th>current_balance</th>\n",
       "      <th>peak_month</th>\n",
       "      <th>peak_month_spending</th>\n",
       "      <th>peak_month_frequency</th>\n",
       "      <th>total_transactions_3m</th>\n",
       "      <th>total_transactions_6m</th>\n",
       "      <th>total_transactions_12m</th>\n",
       "      <th>total_transaction_amount_3m</th>\n",
       "      <th>...</th>\n",
       "      <th>average_transaction_amount_12m</th>\n",
       "      <th>transaction_frequency_3m</th>\n",
       "      <th>transaction_frequency_6m</th>\n",
       "      <th>transaction_frequency_12m</th>\n",
       "      <th>high_value_transaction_rate_3m</th>\n",
       "      <th>high_value_transaction_rate_6m</th>\n",
       "      <th>high_value_transaction_rate_12m</th>\n",
       "      <th>online_transaction_ratio_3m</th>\n",
       "      <th>online_transaction_ratio_6m</th>\n",
       "      <th>online_transaction_ratio_12m</th>\n",
       "    </tr>\n",
       "  </thead>\n",
       "  <tbody>\n",
       "    <tr>\n",
       "      <th>0</th>\n",
       "      <td>1</td>\n",
       "      <td>11</td>\n",
       "      <td>5694.487702</td>\n",
       "      <td>11</td>\n",
       "      <td>12893.350846</td>\n",
       "      <td>48</td>\n",
       "      <td>95</td>\n",
       "      <td>217</td>\n",
       "      <td>411</td>\n",
       "      <td>14545.179016</td>\n",
       "      <td>...</td>\n",
       "      <td>140.434761</td>\n",
       "      <td>31.666667</td>\n",
       "      <td>36.166667</td>\n",
       "      <td>34.25</td>\n",
       "      <td>0.115789</td>\n",
       "      <td>0.078341</td>\n",
       "      <td>0.053528</td>\n",
       "      <td>0.622103</td>\n",
       "      <td>0.748928</td>\n",
       "      <td>0.680343</td>\n",
       "    </tr>\n",
       "    <tr>\n",
       "      <th>1</th>\n",
       "      <td>2</td>\n",
       "      <td>55</td>\n",
       "      <td>1738.012820</td>\n",
       "      <td>6</td>\n",
       "      <td>2084.299245</td>\n",
       "      <td>30</td>\n",
       "      <td>106</td>\n",
       "      <td>164</td>\n",
       "      <td>339</td>\n",
       "      <td>4515.127760</td>\n",
       "      <td>...</td>\n",
       "      <td>26.678337</td>\n",
       "      <td>35.333333</td>\n",
       "      <td>27.333333</td>\n",
       "      <td>28.25</td>\n",
       "      <td>0.037736</td>\n",
       "      <td>0.042683</td>\n",
       "      <td>0.044248</td>\n",
       "      <td>0.710467</td>\n",
       "      <td>0.737272</td>\n",
       "      <td>0.665027</td>\n",
       "    </tr>\n",
       "    <tr>\n",
       "      <th>2</th>\n",
       "      <td>3</td>\n",
       "      <td>33</td>\n",
       "      <td>6638.183864</td>\n",
       "      <td>9</td>\n",
       "      <td>5563.095304</td>\n",
       "      <td>25</td>\n",
       "      <td>69</td>\n",
       "      <td>162</td>\n",
       "      <td>252</td>\n",
       "      <td>10717.607838</td>\n",
       "      <td>...</td>\n",
       "      <td>114.570766</td>\n",
       "      <td>23.000000</td>\n",
       "      <td>27.000000</td>\n",
       "      <td>21.00</td>\n",
       "      <td>0.130435</td>\n",
       "      <td>0.141975</td>\n",
       "      <td>0.123016</td>\n",
       "      <td>0.502275</td>\n",
       "      <td>0.488544</td>\n",
       "      <td>0.594546</td>\n",
       "    </tr>\n",
       "    <tr>\n",
       "      <th>3</th>\n",
       "      <td>4</td>\n",
       "      <td>0</td>\n",
       "      <td>4850.871858</td>\n",
       "      <td>6</td>\n",
       "      <td>3312.311841</td>\n",
       "      <td>15</td>\n",
       "      <td>46</td>\n",
       "      <td>90</td>\n",
       "      <td>153</td>\n",
       "      <td>5781.801272</td>\n",
       "      <td>...</td>\n",
       "      <td>91.705285</td>\n",
       "      <td>15.333333</td>\n",
       "      <td>15.000000</td>\n",
       "      <td>12.75</td>\n",
       "      <td>0.130435</td>\n",
       "      <td>0.111111</td>\n",
       "      <td>0.091503</td>\n",
       "      <td>0.405197</td>\n",
       "      <td>0.470144</td>\n",
       "      <td>0.495167</td>\n",
       "    </tr>\n",
       "    <tr>\n",
       "      <th>4</th>\n",
       "      <td>5</td>\n",
       "      <td>6</td>\n",
       "      <td>4163.480661</td>\n",
       "      <td>6</td>\n",
       "      <td>35418.819413</td>\n",
       "      <td>61</td>\n",
       "      <td>116</td>\n",
       "      <td>263</td>\n",
       "      <td>516</td>\n",
       "      <td>21624.827306</td>\n",
       "      <td>...</td>\n",
       "      <td>315.401688</td>\n",
       "      <td>38.666667</td>\n",
       "      <td>43.833333</td>\n",
       "      <td>43.00</td>\n",
       "      <td>0.120690</td>\n",
       "      <td>0.125475</td>\n",
       "      <td>0.106589</td>\n",
       "      <td>0.730529</td>\n",
       "      <td>0.708079</td>\n",
       "      <td>0.732546</td>\n",
       "    </tr>\n",
       "  </tbody>\n",
       "</table>\n",
       "<p>5 rows × 24 columns</p>\n",
       "</div>"
      ],
      "text/plain": [
       "   customer_id  days_since_last_transaction  current_balance  peak_month  \\\n",
       "0            1                           11      5694.487702          11   \n",
       "1            2                           55      1738.012820           6   \n",
       "2            3                           33      6638.183864           9   \n",
       "3            4                            0      4850.871858           6   \n",
       "4            5                            6      4163.480661           6   \n",
       "\n",
       "   peak_month_spending  peak_month_frequency  total_transactions_3m  \\\n",
       "0         12893.350846                    48                     95   \n",
       "1          2084.299245                    30                    106   \n",
       "2          5563.095304                    25                     69   \n",
       "3          3312.311841                    15                     46   \n",
       "4         35418.819413                    61                    116   \n",
       "\n",
       "   total_transactions_6m  total_transactions_12m  total_transaction_amount_3m  \\\n",
       "0                    217                     411                 14545.179016   \n",
       "1                    164                     339                  4515.127760   \n",
       "2                    162                     252                 10717.607838   \n",
       "3                     90                     153                  5781.801272   \n",
       "4                    263                     516                 21624.827306   \n",
       "\n",
       "   ...  average_transaction_amount_12m  transaction_frequency_3m  \\\n",
       "0  ...                      140.434761                 31.666667   \n",
       "1  ...                       26.678337                 35.333333   \n",
       "2  ...                      114.570766                 23.000000   \n",
       "3  ...                       91.705285                 15.333333   \n",
       "4  ...                      315.401688                 38.666667   \n",
       "\n",
       "   transaction_frequency_6m  transaction_frequency_12m  \\\n",
       "0                 36.166667                      34.25   \n",
       "1                 27.333333                      28.25   \n",
       "2                 27.000000                      21.00   \n",
       "3                 15.000000                      12.75   \n",
       "4                 43.833333                      43.00   \n",
       "\n",
       "   high_value_transaction_rate_3m  high_value_transaction_rate_6m  \\\n",
       "0                        0.115789                        0.078341   \n",
       "1                        0.037736                        0.042683   \n",
       "2                        0.130435                        0.141975   \n",
       "3                        0.130435                        0.111111   \n",
       "4                        0.120690                        0.125475   \n",
       "\n",
       "   high_value_transaction_rate_12m  online_transaction_ratio_3m  \\\n",
       "0                         0.053528                     0.622103   \n",
       "1                         0.044248                     0.710467   \n",
       "2                         0.123016                     0.502275   \n",
       "3                         0.091503                     0.405197   \n",
       "4                         0.106589                     0.730529   \n",
       "\n",
       "   online_transaction_ratio_6m  online_transaction_ratio_12m  \n",
       "0                     0.748928                      0.680343  \n",
       "1                     0.737272                      0.665027  \n",
       "2                     0.488544                      0.594546  \n",
       "3                     0.470144                      0.495167  \n",
       "4                     0.708079                      0.732546  \n",
       "\n",
       "[5 rows x 24 columns]"
      ]
     },
     "execution_count": 5,
     "metadata": {},
     "output_type": "execute_result"
    }
   ],
   "source": [
    "# Load data\n",
    "transaction_data = pd.read_csv('transactions_summary.csv')\n",
    "\n",
    "# Data cleaning and processing\n",
    "transaction_data = transaction_data[transaction_data['current_balance'] >= 0]\n",
    "transaction_data = transaction_data[transaction_data['peak_month_spending'] >= 0]\n",
    "\n",
    "# Show first few entries\n",
    "transaction_data.head()"
   ]
  },
  {
   "cell_type": "code",
   "execution_count": 6,
   "metadata": {},
   "outputs": [
    {
     "data": {
      "text/plain": [
       "(9429, 35)"
      ]
     },
     "execution_count": 6,
     "metadata": {},
     "output_type": "execute_result"
    }
   ],
   "source": [
    "customer_data_encoded = pd.get_dummies(customer_data)\n",
    "\n",
    "data_scaler = StandardScaler()\n",
    "scaled_data = data_scaler.fit_transform(customer_data_encoded)\n",
    "scaled_data.shape"
   ]
  },
  {
   "cell_type": "code",
   "execution_count": 6,
   "metadata": {},
   "outputs": [
    {
     "data": {
      "text/html": [
       "<div>\n",
       "<style scoped>\n",
       "    .dataframe tbody tr th:only-of-type {\n",
       "        vertical-align: middle;\n",
       "    }\n",
       "\n",
       "    .dataframe tbody tr th {\n",
       "        vertical-align: top;\n",
       "    }\n",
       "\n",
       "    .dataframe thead th {\n",
       "        text-align: right;\n",
       "    }\n",
       "</style>\n",
       "<table border=\"1\" class=\"dataframe\">\n",
       "  <thead>\n",
       "    <tr style=\"text-align: right;\">\n",
       "      <th></th>\n",
       "      <th>0</th>\n",
       "      <th>1</th>\n",
       "      <th>2</th>\n",
       "      <th>3</th>\n",
       "      <th>4</th>\n",
       "      <th>5</th>\n",
       "      <th>6</th>\n",
       "      <th>7</th>\n",
       "      <th>8</th>\n",
       "      <th>9</th>\n",
       "    </tr>\n",
       "  </thead>\n",
       "  <tbody>\n",
       "    <tr>\n",
       "      <th>0</th>\n",
       "      <td>0.864716</td>\n",
       "      <td>-0.558756</td>\n",
       "      <td>-0.405211</td>\n",
       "      <td>-2.938047</td>\n",
       "      <td>0.658717</td>\n",
       "      <td>0.771490</td>\n",
       "      <td>-0.104171</td>\n",
       "      <td>1.098196</td>\n",
       "      <td>-1.196202</td>\n",
       "      <td>-0.995937</td>\n",
       "    </tr>\n",
       "    <tr>\n",
       "      <th>1</th>\n",
       "      <td>-1.321458</td>\n",
       "      <td>-0.622464</td>\n",
       "      <td>1.772571</td>\n",
       "      <td>-0.820035</td>\n",
       "      <td>1.454390</td>\n",
       "      <td>-0.715025</td>\n",
       "      <td>-1.696514</td>\n",
       "      <td>-0.321240</td>\n",
       "      <td>-0.401531</td>\n",
       "      <td>0.963388</td>\n",
       "    </tr>\n",
       "    <tr>\n",
       "      <th>2</th>\n",
       "      <td>-3.453309</td>\n",
       "      <td>-3.180382</td>\n",
       "      <td>3.122876</td>\n",
       "      <td>-0.281083</td>\n",
       "      <td>-1.780931</td>\n",
       "      <td>0.434588</td>\n",
       "      <td>1.423739</td>\n",
       "      <td>0.685660</td>\n",
       "      <td>1.672023</td>\n",
       "      <td>-0.319138</td>\n",
       "    </tr>\n",
       "    <tr>\n",
       "      <th>3</th>\n",
       "      <td>1.433111</td>\n",
       "      <td>-0.235137</td>\n",
       "      <td>-0.274807</td>\n",
       "      <td>-0.271187</td>\n",
       "      <td>-1.288567</td>\n",
       "      <td>-1.629894</td>\n",
       "      <td>0.732516</td>\n",
       "      <td>-2.048717</td>\n",
       "      <td>-0.841282</td>\n",
       "      <td>0.024613</td>\n",
       "    </tr>\n",
       "    <tr>\n",
       "      <th>4</th>\n",
       "      <td>0.805812</td>\n",
       "      <td>-1.283208</td>\n",
       "      <td>0.300266</td>\n",
       "      <td>-0.344302</td>\n",
       "      <td>-0.901870</td>\n",
       "      <td>-1.733232</td>\n",
       "      <td>-1.352641</td>\n",
       "      <td>-0.374703</td>\n",
       "      <td>2.527023</td>\n",
       "      <td>-0.370761</td>\n",
       "    </tr>\n",
       "  </tbody>\n",
       "</table>\n",
       "</div>"
      ],
      "text/plain": [
       "          0         1         2         3         4         5         6  \\\n",
       "0  0.864716 -0.558756 -0.405211 -2.938047  0.658717  0.771490 -0.104171   \n",
       "1 -1.321458 -0.622464  1.772571 -0.820035  1.454390 -0.715025 -1.696514   \n",
       "2 -3.453309 -3.180382  3.122876 -0.281083 -1.780931  0.434588  1.423739   \n",
       "3  1.433111 -0.235137 -0.274807 -0.271187 -1.288567 -1.629894  0.732516   \n",
       "4  0.805812 -1.283208  0.300266 -0.344302 -0.901870 -1.733232 -1.352641   \n",
       "\n",
       "          7         8         9  \n",
       "0  1.098196 -1.196202 -0.995937  \n",
       "1 -0.321240 -0.401531  0.963388  \n",
       "2  0.685660  1.672023 -0.319138  \n",
       "3 -2.048717 -0.841282  0.024613  \n",
       "4 -0.374703  2.527023 -0.370761  "
      ]
     },
     "execution_count": 6,
     "metadata": {},
     "output_type": "execute_result"
    }
   ],
   "source": [
    "pca = PCA(n_components=10)\n",
    "\n",
    "principal_components = pca.fit_transform(scaled_data)\n",
    "pca_df = pd.DataFrame(principal_components)\n",
    "pca_df.head()"
   ]
  },
  {
   "cell_type": "code",
   "execution_count": 7,
   "metadata": {},
   "outputs": [
    {
     "data": {
      "image/png": "[encoded data removed]",
      "text/plain": [
       "<Figure size 640x480 with 1 Axes>"
      ]
     },
     "metadata": {},
     "output_type": "display_data"
    }
   ],
   "source": [
    "pca = PCA().fit(scaled_data)\n",
    "\n",
    "plt.plot(np.cumsum(pca.explained_variance_ratio_))\n",
    "plt.xlabel('Number of Components')\n",
    "plt.ylabel('Cumulative Explained Variance')\n",
    "plt.title('Scree Plot')\n",
    "plt.grid()\n",
    "plt.show()"
   ]
  },
  {
   "cell_type": "code",
   "execution_count": 8,
   "metadata": {},
   "outputs": [
    {
     "data": {
      "image/png": "[encoded data removed]",
      "text/plain": [
       "<Figure size 1000x500 with 1 Axes>"
      ]
     },
     "metadata": {},
     "output_type": "display_data"
    }
   ],
   "source": [
    "pca = PCA(n_components=25)  # Reduce to 25 dimensions\n",
    "scaled_data_pca = pca.fit_transform(scaled_data)  # Transform data\n",
    "\n",
    "# Compute hierarchical clustering\n",
    "linkage_matrix = linkage(scaled_data_pca, method='ward')  # Ward's method for variance minimization\n",
    "\n",
    "# Plot dendrogram\n",
    "plt.figure(figsize=(10, 5))\n",
    "dendrogram(linkage_matrix)\n",
    "plt.axhline(y=150, color='r', linestyle='--')  # Adjust threshold based on the plot\n",
    "plt.title('Hierarchical Clustering Dendrogram')\n",
    "plt.xlabel('Samples')\n",
    "plt.ylabel('Distance')\n",
    "plt.show()"
   ]
  },
  {
   "cell_type": "code",
   "execution_count": 14,
   "metadata": {},
   "outputs": [
    {
     "name": "stdout",
     "output_type": "stream",
     "text": [
      "Cluster assignments: (array([0, 1, 2, 3], dtype=int64), array([1808, 6283,  604,  734], dtype=int64))\n"
     ]
    },
    {
     "data": {
      "text/plain": [
       "array([1, 1, 3, ..., 1, 3, 1], dtype=int64)"
      ]
     },
     "execution_count": 14,
     "metadata": {},
     "output_type": "execute_result"
    }
   ],
   "source": [
    "# Assign cluster labels (decide number of clusters from dendrogram)\n",
    "n_clusters = 4\n",
    "cluster_labels = AgglomerativeClustering(n_clusters=n_clusters, linkage='ward').fit_predict(scaled_data_pca)\n",
    "\n",
    "print(f\"Cluster assignments: {np.unique(cluster_labels, return_counts=True)}\")\n",
    "cluster_labels"
   ]
  },
  {
   "cell_type": "code",
   "execution_count": 16,
   "metadata": {},
   "outputs": [],
   "source": [
    "# Merge cluster labels with the customer dataset\n",
    "customer_data_with_labels = customer_data\n",
    "customer_data_with_labels['cluster'] = cluster_labels"
   ]
  },
  {
   "cell_type": "markdown",
   "metadata": {},
   "source": [
    "# Merged Dataset"
   ]
  },
  {
   "cell_type": "code",
   "execution_count": 7,
   "metadata": {},
   "outputs": [
    {
     "name": "stdout",
     "output_type": "stream",
     "text": [
      "(9429, 45)\n",
      "Index(['customer_id', 'age', 'job', 'marital', 'education', 'credit_default',\n",
      "       'customer_segment', 'region', 'income', 'credit_card', 'personal_loan',\n",
      "       'mortgage', 'savings_account', 'investment_product', 'auto_loan',\n",
      "       'wealth_management', 'days_since_last_transaction', 'current_balance',\n",
      "       'peak_month', 'peak_month_spending', 'peak_month_frequency',\n",
      "       'total_transactions_3m', 'total_transactions_6m',\n",
      "       'total_transactions_12m', 'total_transaction_amount_3m',\n",
      "       'total_transaction_amount_6m', 'total_transaction_amount_12m',\n",
      "       'average_transaction_amount_3m', 'average_transaction_amount_6m',\n",
      "       'average_transaction_amount_12m', 'transaction_frequency_3m',\n",
      "       'transaction_frequency_6m', 'transaction_frequency_12m',\n",
      "       'high_value_transaction_rate_3m', 'high_value_transaction_rate_6m',\n",
      "       'high_value_transaction_rate_12m', 'online_transaction_ratio_3m',\n",
      "       'online_transaction_ratio_6m', 'online_transaction_ratio_12m',\n",
      "       'has_mobile_app', 'has_web_account', 'mobile_logins_per_week',\n",
      "       'web_logins_per_week', 'avg_mobile_session_duration',\n",
      "       'avg_web_session_duration'],\n",
      "      dtype='object')\n"
     ]
    }
   ],
   "source": [
    "# Merge the datasets\n",
    "df = pd.merge(customer_data, transaction_data, on='customer_id', how='inner')\n",
    "df = pd.merge(df, usage_data, on='customer_id', how='inner')\n",
    "\n",
    "# Check the shape of the merge dataset\n",
    "print(df.shape) # 9429 rows\n",
    "print(df.columns)"
   ]
  },
  {
   "cell_type": "code",
   "execution_count": 8,
   "metadata": {},
   "outputs": [
    {
     "data": {
      "text/plain": [
       "(9429, 63)"
      ]
     },
     "execution_count": 8,
     "metadata": {},
     "output_type": "execute_result"
    }
   ],
   "source": [
    "df_no_id = df.drop('customer_id', axis=1)\n",
    "df_encoded_no_id = pd.get_dummies(df_no_id)\n",
    "\n",
    "data_scaler = StandardScaler()\n",
    "scaled_data = data_scaler.fit_transform(df_encoded_no_id)\n",
    "scaled_data.shape"
   ]
  },
  {
   "cell_type": "code",
   "execution_count": 9,
   "metadata": {},
   "outputs": [
    {
     "data": {
      "image/png": "[encoded data removed]",
      "text/plain": [
       "<Figure size 640x480 with 1 Axes>"
      ]
     },
     "metadata": {},
     "output_type": "display_data"
    }
   ],
   "source": [
    "# Create a Scree Plot to decide the number of components to use\n",
    "pca = PCA().fit(scaled_data)\n",
    "\n",
    "plt.plot(np.cumsum(pca.explained_variance_ratio_))\n",
    "plt.xlabel('Number of Components')\n",
    "plt.ylabel('Cumulative Explained Variance')\n",
    "plt.title('Scree Plot')\n",
    "plt.grid()\n",
    "plt.show()"
   ]
  },
  {
   "cell_type": "code",
   "execution_count": 10,
   "metadata": {},
   "outputs": [
    {
     "ename": "KeyboardInterrupt",
     "evalue": "",
     "output_type": "error",
     "traceback": [
      "\u001b[1;31m---------------------------------------------------------------------------\u001b[0m",
      "\u001b[1;31mKeyboardInterrupt\u001b[0m                         Traceback (most recent call last)",
      "Cell \u001b[1;32mIn[10], line 9\u001b[0m\n\u001b[0;32m      7\u001b[0m \u001b[38;5;66;03m# Plot dendrogram\u001b[39;00m\n\u001b[0;32m      8\u001b[0m plt\u001b[38;5;241m.\u001b[39mfigure(figsize\u001b[38;5;241m=\u001b[39m(\u001b[38;5;241m10\u001b[39m, \u001b[38;5;241m5\u001b[39m))\n\u001b[1;32m----> 9\u001b[0m \u001b[43mdendrogram\u001b[49m\u001b[43m(\u001b[49m\u001b[43mlinkage_matrix\u001b[49m\u001b[43m)\u001b[49m\n\u001b[0;32m     10\u001b[0m plt\u001b[38;5;241m.\u001b[39maxhline(y\u001b[38;5;241m=\u001b[39m\u001b[38;5;241m250\u001b[39m, color\u001b[38;5;241m=\u001b[39m\u001b[38;5;124m'\u001b[39m\u001b[38;5;124mr\u001b[39m\u001b[38;5;124m'\u001b[39m, linestyle\u001b[38;5;241m=\u001b[39m\u001b[38;5;124m'\u001b[39m\u001b[38;5;124m--\u001b[39m\u001b[38;5;124m'\u001b[39m)  \u001b[38;5;66;03m# Adjust threshold based on the plot\u001b[39;00m\n\u001b[0;32m     11\u001b[0m plt\u001b[38;5;241m.\u001b[39mtitle(\u001b[38;5;124m'\u001b[39m\u001b[38;5;124mHierarchical Clustering Dendrogram\u001b[39m\u001b[38;5;124m'\u001b[39m)\n",
      "File \u001b[1;32m~\\AppData\\Roaming\\Python\\Python311\\site-packages\\scipy\\cluster\\hierarchy.py:3379\u001b[0m, in \u001b[0;36mdendrogram\u001b[1;34m(Z, p, truncate_mode, color_threshold, get_leaves, orientation, labels, count_sort, distance_sort, show_leaf_counts, no_plot, no_labels, leaf_font_size, leaf_rotation, leaf_label_func, show_contracted, link_color_func, ax, above_threshold_color)\u001b[0m\n\u001b[0;32m   3377\u001b[0m \u001b[38;5;28;01mif\u001b[39;00m \u001b[38;5;129;01mnot\u001b[39;00m no_plot:\n\u001b[0;32m   3378\u001b[0m     mh \u001b[38;5;241m=\u001b[39m \u001b[38;5;28mmax\u001b[39m(Z[:, \u001b[38;5;241m2\u001b[39m])\n\u001b[1;32m-> 3379\u001b[0m     \u001b[43m_plot_dendrogram\u001b[49m\u001b[43m(\u001b[49m\u001b[43micoord_list\u001b[49m\u001b[43m,\u001b[49m\u001b[43m \u001b[49m\u001b[43mdcoord_list\u001b[49m\u001b[43m,\u001b[49m\u001b[43m \u001b[49m\u001b[43mivl\u001b[49m\u001b[43m,\u001b[49m\u001b[43m \u001b[49m\u001b[43mp\u001b[49m\u001b[43m,\u001b[49m\u001b[43m \u001b[49m\u001b[43mn\u001b[49m\u001b[43m,\u001b[49m\u001b[43m \u001b[49m\u001b[43mmh\u001b[49m\u001b[43m,\u001b[49m\u001b[43m \u001b[49m\u001b[43morientation\u001b[49m\u001b[43m,\u001b[49m\n\u001b[0;32m   3380\u001b[0m \u001b[43m                     \u001b[49m\u001b[43mno_labels\u001b[49m\u001b[43m,\u001b[49m\u001b[43m \u001b[49m\u001b[43mcolor_list\u001b[49m\u001b[43m,\u001b[49m\n\u001b[0;32m   3381\u001b[0m \u001b[43m                     \u001b[49m\u001b[43mleaf_font_size\u001b[49m\u001b[38;5;241;43m=\u001b[39;49m\u001b[43mleaf_font_size\u001b[49m\u001b[43m,\u001b[49m\n\u001b[0;32m   3382\u001b[0m \u001b[43m                     \u001b[49m\u001b[43mleaf_rotation\u001b[49m\u001b[38;5;241;43m=\u001b[39;49m\u001b[43mleaf_rotation\u001b[49m\u001b[43m,\u001b[49m\n\u001b[0;32m   3383\u001b[0m \u001b[43m                     \u001b[49m\u001b[43mcontraction_marks\u001b[49m\u001b[38;5;241;43m=\u001b[39;49m\u001b[43mcontraction_marks\u001b[49m\u001b[43m,\u001b[49m\n\u001b[0;32m   3384\u001b[0m \u001b[43m                     \u001b[49m\u001b[43max\u001b[49m\u001b[38;5;241;43m=\u001b[39;49m\u001b[43max\u001b[49m\u001b[43m,\u001b[49m\n\u001b[0;32m   3385\u001b[0m \u001b[43m                     \u001b[49m\u001b[43mabove_threshold_color\u001b[49m\u001b[38;5;241;43m=\u001b[39;49m\u001b[43mabove_threshold_color\u001b[49m\u001b[43m)\u001b[49m\n\u001b[0;32m   3387\u001b[0m R[\u001b[38;5;124m\"\u001b[39m\u001b[38;5;124mleaves_color_list\u001b[39m\u001b[38;5;124m\"\u001b[39m] \u001b[38;5;241m=\u001b[39m _get_leaves_color_list(R)\n\u001b[0;32m   3389\u001b[0m \u001b[38;5;28;01mreturn\u001b[39;00m R\n",
      "File \u001b[1;32m~\\AppData\\Roaming\\Python\\Python311\\site-packages\\scipy\\cluster\\hierarchy.py:2856\u001b[0m, in \u001b[0;36m_plot_dendrogram\u001b[1;34m(icoords, dcoords, ivl, p, n, mh, orientation, no_labels, color_list, leaf_font_size, leaf_rotation, contraction_marks, ax, above_threshold_color)\u001b[0m\n\u001b[0;32m   2854\u001b[0m     ax\u001b[38;5;241m.\u001b[39mset_xticklabels([])\n\u001b[0;32m   2855\u001b[0m \u001b[38;5;28;01melse\u001b[39;00m:\n\u001b[1;32m-> 2856\u001b[0m     \u001b[43max\u001b[49m\u001b[38;5;241;43m.\u001b[39;49m\u001b[43mset_xticks\u001b[49m\u001b[43m(\u001b[49m\u001b[43miv_ticks\u001b[49m\u001b[43m)\u001b[49m\n\u001b[0;32m   2858\u001b[0m     \u001b[38;5;28;01mif\u001b[39;00m orientation \u001b[38;5;241m==\u001b[39m \u001b[38;5;124m'\u001b[39m\u001b[38;5;124mtop\u001b[39m\u001b[38;5;124m'\u001b[39m:\n\u001b[0;32m   2859\u001b[0m         ax\u001b[38;5;241m.\u001b[39mxaxis\u001b[38;5;241m.\u001b[39mset_ticks_position(\u001b[38;5;124m'\u001b[39m\u001b[38;5;124mbottom\u001b[39m\u001b[38;5;124m'\u001b[39m)\n",
      "File \u001b[1;32m~\\AppData\\Roaming\\Python\\Python311\\site-packages\\matplotlib\\axes\\_base.py:74\u001b[0m, in \u001b[0;36m_axis_method_wrapper.__set_name__.<locals>.wrapper\u001b[1;34m(self, *args, **kwargs)\u001b[0m\n\u001b[0;32m     73\u001b[0m \u001b[38;5;28;01mdef\u001b[39;00m \u001b[38;5;21mwrapper\u001b[39m(\u001b[38;5;28mself\u001b[39m, \u001b[38;5;241m*\u001b[39margs, \u001b[38;5;241m*\u001b[39m\u001b[38;5;241m*\u001b[39mkwargs):\n\u001b[1;32m---> 74\u001b[0m     \u001b[38;5;28;01mreturn\u001b[39;00m \u001b[43mget_method\u001b[49m\u001b[43m(\u001b[49m\u001b[38;5;28;43mself\u001b[39;49m\u001b[43m)\u001b[49m\u001b[43m(\u001b[49m\u001b[38;5;241;43m*\u001b[39;49m\u001b[43margs\u001b[49m\u001b[43m,\u001b[49m\u001b[43m \u001b[49m\u001b[38;5;241;43m*\u001b[39;49m\u001b[38;5;241;43m*\u001b[39;49m\u001b[43mkwargs\u001b[49m\u001b[43m)\u001b[49m\n",
      "File \u001b[1;32m~\\AppData\\Roaming\\Python\\Python311\\site-packages\\matplotlib\\axis.py:2074\u001b[0m, in \u001b[0;36mAxis.set_ticks\u001b[1;34m(self, ticks, labels, minor, **kwargs)\u001b[0m\n\u001b[0;32m   2071\u001b[0m \u001b[38;5;28;01mif\u001b[39;00m labels \u001b[38;5;129;01mis\u001b[39;00m \u001b[38;5;28;01mNone\u001b[39;00m \u001b[38;5;129;01mand\u001b[39;00m kwargs:\n\u001b[0;32m   2072\u001b[0m     \u001b[38;5;28;01mraise\u001b[39;00m \u001b[38;5;167;01mValueError\u001b[39;00m(\u001b[38;5;124m'\u001b[39m\u001b[38;5;124mlabels argument cannot be None when \u001b[39m\u001b[38;5;124m'\u001b[39m\n\u001b[0;32m   2073\u001b[0m                      \u001b[38;5;124m'\u001b[39m\u001b[38;5;124mkwargs are passed\u001b[39m\u001b[38;5;124m'\u001b[39m)\n\u001b[1;32m-> 2074\u001b[0m result \u001b[38;5;241m=\u001b[39m \u001b[38;5;28;43mself\u001b[39;49m\u001b[38;5;241;43m.\u001b[39;49m\u001b[43m_set_tick_locations\u001b[49m\u001b[43m(\u001b[49m\u001b[43mticks\u001b[49m\u001b[43m,\u001b[49m\u001b[43m \u001b[49m\u001b[43mminor\u001b[49m\u001b[38;5;241;43m=\u001b[39;49m\u001b[43mminor\u001b[49m\u001b[43m)\u001b[49m\n\u001b[0;32m   2075\u001b[0m \u001b[38;5;28;01mif\u001b[39;00m labels \u001b[38;5;129;01mis\u001b[39;00m \u001b[38;5;129;01mnot\u001b[39;00m \u001b[38;5;28;01mNone\u001b[39;00m:\n\u001b[0;32m   2076\u001b[0m     \u001b[38;5;28mself\u001b[39m\u001b[38;5;241m.\u001b[39mset_ticklabels(labels, minor\u001b[38;5;241m=\u001b[39mminor, \u001b[38;5;241m*\u001b[39m\u001b[38;5;241m*\u001b[39mkwargs)\n",
      "File \u001b[1;32m~\\AppData\\Roaming\\Python\\Python311\\site-packages\\matplotlib\\axis.py:2035\u001b[0m, in \u001b[0;36mAxis._set_tick_locations\u001b[1;34m(self, ticks, minor)\u001b[0m\n\u001b[0;32m   2033\u001b[0m \u001b[38;5;28;01melse\u001b[39;00m:\n\u001b[0;32m   2034\u001b[0m     \u001b[38;5;28mself\u001b[39m\u001b[38;5;241m.\u001b[39mset_major_locator(locator)\n\u001b[1;32m-> 2035\u001b[0m     \u001b[38;5;28;01mreturn\u001b[39;00m \u001b[38;5;28;43mself\u001b[39;49m\u001b[38;5;241;43m.\u001b[39;49m\u001b[43mget_major_ticks\u001b[49m\u001b[43m(\u001b[49m\u001b[38;5;28;43mlen\u001b[39;49m\u001b[43m(\u001b[49m\u001b[43mticks\u001b[49m\u001b[43m)\u001b[49m\u001b[43m)\u001b[49m\n",
      "File \u001b[1;32m~\\AppData\\Roaming\\Python\\Python311\\site-packages\\matplotlib\\axis.py:1602\u001b[0m, in \u001b[0;36mAxis.get_major_ticks\u001b[1;34m(self, numticks)\u001b[0m\n\u001b[0;32m   1598\u001b[0m     numticks \u001b[38;5;241m=\u001b[39m \u001b[38;5;28mlen\u001b[39m(\u001b[38;5;28mself\u001b[39m\u001b[38;5;241m.\u001b[39mget_majorticklocs())\n\u001b[0;32m   1600\u001b[0m \u001b[38;5;28;01mwhile\u001b[39;00m \u001b[38;5;28mlen\u001b[39m(\u001b[38;5;28mself\u001b[39m\u001b[38;5;241m.\u001b[39mmajorTicks) \u001b[38;5;241m<\u001b[39m numticks:\n\u001b[0;32m   1601\u001b[0m     \u001b[38;5;66;03m# Update the new tick label properties from the old.\u001b[39;00m\n\u001b[1;32m-> 1602\u001b[0m     tick \u001b[38;5;241m=\u001b[39m \u001b[38;5;28;43mself\u001b[39;49m\u001b[38;5;241;43m.\u001b[39;49m\u001b[43m_get_tick\u001b[49m\u001b[43m(\u001b[49m\u001b[43mmajor\u001b[49m\u001b[38;5;241;43m=\u001b[39;49m\u001b[38;5;28;43;01mTrue\u001b[39;49;00m\u001b[43m)\u001b[49m\n\u001b[0;32m   1603\u001b[0m     \u001b[38;5;28mself\u001b[39m\u001b[38;5;241m.\u001b[39mmajorTicks\u001b[38;5;241m.\u001b[39mappend(tick)\n\u001b[0;32m   1604\u001b[0m     \u001b[38;5;28mself\u001b[39m\u001b[38;5;241m.\u001b[39m_copy_tick_props(\u001b[38;5;28mself\u001b[39m\u001b[38;5;241m.\u001b[39mmajorTicks[\u001b[38;5;241m0\u001b[39m], tick)\n",
      "File \u001b[1;32m~\\AppData\\Roaming\\Python\\Python311\\site-packages\\matplotlib\\axis.py:1551\u001b[0m, in \u001b[0;36mAxis._get_tick\u001b[1;34m(self, major)\u001b[0m\n\u001b[0;32m   1547\u001b[0m     \u001b[38;5;28;01mraise\u001b[39;00m \u001b[38;5;167;01mNotImplementedError\u001b[39;00m(\n\u001b[0;32m   1548\u001b[0m         \u001b[38;5;124mf\u001b[39m\u001b[38;5;124m\"\u001b[39m\u001b[38;5;124mThe Axis subclass \u001b[39m\u001b[38;5;132;01m{\u001b[39;00m\u001b[38;5;28mself\u001b[39m\u001b[38;5;241m.\u001b[39m\u001b[38;5;18m__class__\u001b[39m\u001b[38;5;241m.\u001b[39m\u001b[38;5;18m__name__\u001b[39m\u001b[38;5;132;01m}\u001b[39;00m\u001b[38;5;124m must define \u001b[39m\u001b[38;5;124m\"\u001b[39m\n\u001b[0;32m   1549\u001b[0m         \u001b[38;5;124m\"\u001b[39m\u001b[38;5;124m_tick_class or reimplement _get_tick()\u001b[39m\u001b[38;5;124m\"\u001b[39m)\n\u001b[0;32m   1550\u001b[0m tick_kw \u001b[38;5;241m=\u001b[39m \u001b[38;5;28mself\u001b[39m\u001b[38;5;241m.\u001b[39m_major_tick_kw \u001b[38;5;28;01mif\u001b[39;00m major \u001b[38;5;28;01melse\u001b[39;00m \u001b[38;5;28mself\u001b[39m\u001b[38;5;241m.\u001b[39m_minor_tick_kw\n\u001b[1;32m-> 1551\u001b[0m \u001b[38;5;28;01mreturn\u001b[39;00m \u001b[38;5;28;43mself\u001b[39;49m\u001b[38;5;241;43m.\u001b[39;49m\u001b[43m_tick_class\u001b[49m\u001b[43m(\u001b[49m\u001b[38;5;28;43mself\u001b[39;49m\u001b[38;5;241;43m.\u001b[39;49m\u001b[43maxes\u001b[49m\u001b[43m,\u001b[49m\u001b[43m \u001b[49m\u001b[38;5;241;43m0\u001b[39;49m\u001b[43m,\u001b[49m\u001b[43m \u001b[49m\u001b[43mmajor\u001b[49m\u001b[38;5;241;43m=\u001b[39;49m\u001b[43mmajor\u001b[49m\u001b[43m,\u001b[49m\u001b[43m \u001b[49m\u001b[38;5;241;43m*\u001b[39;49m\u001b[38;5;241;43m*\u001b[39;49m\u001b[43mtick_kw\u001b[49m\u001b[43m)\u001b[49m\n",
      "File \u001b[1;32m~\\AppData\\Roaming\\Python\\Python311\\site-packages\\matplotlib\\axis.py:417\u001b[0m, in \u001b[0;36mXTick.__init__\u001b[1;34m(self, *args, **kwargs)\u001b[0m\n\u001b[0;32m    416\u001b[0m \u001b[38;5;28;01mdef\u001b[39;00m \u001b[38;5;21m__init__\u001b[39m(\u001b[38;5;28mself\u001b[39m, \u001b[38;5;241m*\u001b[39margs, \u001b[38;5;241m*\u001b[39m\u001b[38;5;241m*\u001b[39mkwargs):\n\u001b[1;32m--> 417\u001b[0m     \u001b[38;5;28;43msuper\u001b[39;49m\u001b[43m(\u001b[49m\u001b[43m)\u001b[49m\u001b[38;5;241;43m.\u001b[39;49m\u001b[38;5;21;43m__init__\u001b[39;49m\u001b[43m(\u001b[49m\u001b[38;5;241;43m*\u001b[39;49m\u001b[43margs\u001b[49m\u001b[43m,\u001b[49m\u001b[43m \u001b[49m\u001b[38;5;241;43m*\u001b[39;49m\u001b[38;5;241;43m*\u001b[39;49m\u001b[43mkwargs\u001b[49m\u001b[43m)\u001b[49m\n\u001b[0;32m    418\u001b[0m     \u001b[38;5;66;03m# x in data coords, y in axes coords\u001b[39;00m\n\u001b[0;32m    419\u001b[0m     ax \u001b[38;5;241m=\u001b[39m \u001b[38;5;28mself\u001b[39m\u001b[38;5;241m.\u001b[39maxes\n",
      "File \u001b[1;32m~\\AppData\\Roaming\\Python\\Python311\\site-packages\\matplotlib\\axis.py:172\u001b[0m, in \u001b[0;36mTick.__init__\u001b[1;34m(self, axes, loc, size, width, color, tickdir, pad, labelsize, labelcolor, zorder, gridOn, tick1On, tick2On, label1On, label2On, major, labelrotation, grid_color, grid_linestyle, grid_linewidth, grid_alpha, **kwargs)\u001b[0m\n\u001b[0;32m    161\u001b[0m \u001b[38;5;28mself\u001b[39m\u001b[38;5;241m.\u001b[39mtick2line \u001b[38;5;241m=\u001b[39m mlines\u001b[38;5;241m.\u001b[39mLine2D(\n\u001b[0;32m    162\u001b[0m     [], [],\n\u001b[0;32m    163\u001b[0m     color\u001b[38;5;241m=\u001b[39mcolor, linestyle\u001b[38;5;241m=\u001b[39m\u001b[38;5;124m\"\u001b[39m\u001b[38;5;124mnone\u001b[39m\u001b[38;5;124m\"\u001b[39m, zorder\u001b[38;5;241m=\u001b[39mzorder, visible\u001b[38;5;241m=\u001b[39mtick2On,\n\u001b[0;32m    164\u001b[0m     markeredgecolor\u001b[38;5;241m=\u001b[39mcolor, markersize\u001b[38;5;241m=\u001b[39msize, markeredgewidth\u001b[38;5;241m=\u001b[39mwidth,\n\u001b[0;32m    165\u001b[0m )\n\u001b[0;32m    166\u001b[0m \u001b[38;5;28mself\u001b[39m\u001b[38;5;241m.\u001b[39mgridline \u001b[38;5;241m=\u001b[39m mlines\u001b[38;5;241m.\u001b[39mLine2D(\n\u001b[0;32m    167\u001b[0m     [], [],\n\u001b[0;32m    168\u001b[0m     color\u001b[38;5;241m=\u001b[39mgrid_color, alpha\u001b[38;5;241m=\u001b[39mgrid_alpha, visible\u001b[38;5;241m=\u001b[39mgridOn,\n\u001b[0;32m    169\u001b[0m     linestyle\u001b[38;5;241m=\u001b[39mgrid_linestyle, linewidth\u001b[38;5;241m=\u001b[39mgrid_linewidth, marker\u001b[38;5;241m=\u001b[39m\u001b[38;5;124m\"\u001b[39m\u001b[38;5;124m\"\u001b[39m,\n\u001b[0;32m    170\u001b[0m     \u001b[38;5;241m*\u001b[39m\u001b[38;5;241m*\u001b[39mgrid_kw,\n\u001b[0;32m    171\u001b[0m )\n\u001b[1;32m--> 172\u001b[0m \u001b[38;5;28;43mself\u001b[39;49m\u001b[38;5;241;43m.\u001b[39;49m\u001b[43mgridline\u001b[49m\u001b[38;5;241;43m.\u001b[39;49m\u001b[43mget_path\u001b[49m\u001b[43m(\u001b[49m\u001b[43m)\u001b[49m\u001b[38;5;241m.\u001b[39m_interpolation_steps \u001b[38;5;241m=\u001b[39m \\\n\u001b[0;32m    173\u001b[0m     GRIDLINE_INTERPOLATION_STEPS\n\u001b[0;32m    174\u001b[0m \u001b[38;5;28mself\u001b[39m\u001b[38;5;241m.\u001b[39mlabel1 \u001b[38;5;241m=\u001b[39m mtext\u001b[38;5;241m.\u001b[39mText(\n\u001b[0;32m    175\u001b[0m     np\u001b[38;5;241m.\u001b[39mnan, np\u001b[38;5;241m.\u001b[39mnan,\n\u001b[0;32m    176\u001b[0m     fontsize\u001b[38;5;241m=\u001b[39mlabelsize, color\u001b[38;5;241m=\u001b[39mlabelcolor, visible\u001b[38;5;241m=\u001b[39mlabel1On,\n\u001b[0;32m    177\u001b[0m     rotation\u001b[38;5;241m=\u001b[39m\u001b[38;5;28mself\u001b[39m\u001b[38;5;241m.\u001b[39m_labelrotation[\u001b[38;5;241m1\u001b[39m])\n\u001b[0;32m    178\u001b[0m \u001b[38;5;28mself\u001b[39m\u001b[38;5;241m.\u001b[39mlabel2 \u001b[38;5;241m=\u001b[39m mtext\u001b[38;5;241m.\u001b[39mText(\n\u001b[0;32m    179\u001b[0m     np\u001b[38;5;241m.\u001b[39mnan, np\u001b[38;5;241m.\u001b[39mnan,\n\u001b[0;32m    180\u001b[0m     fontsize\u001b[38;5;241m=\u001b[39mlabelsize, color\u001b[38;5;241m=\u001b[39mlabelcolor, visible\u001b[38;5;241m=\u001b[39mlabel2On,\n\u001b[0;32m    181\u001b[0m     rotation\u001b[38;5;241m=\u001b[39m\u001b[38;5;28mself\u001b[39m\u001b[38;5;241m.\u001b[39m_labelrotation[\u001b[38;5;241m1\u001b[39m])\n",
      "File \u001b[1;32m~\\AppData\\Roaming\\Python\\Python311\\site-packages\\matplotlib\\lines.py:1028\u001b[0m, in \u001b[0;36mLine2D.get_path\u001b[1;34m(self)\u001b[0m\n\u001b[0;32m   1026\u001b[0m \u001b[38;5;250m\u001b[39m\u001b[38;5;124;03m\"\"\"Return the `~matplotlib.path.Path` associated with this line.\"\"\"\u001b[39;00m\n\u001b[0;32m   1027\u001b[0m \u001b[38;5;28;01mif\u001b[39;00m \u001b[38;5;28mself\u001b[39m\u001b[38;5;241m.\u001b[39m_invalidy \u001b[38;5;129;01mor\u001b[39;00m \u001b[38;5;28mself\u001b[39m\u001b[38;5;241m.\u001b[39m_invalidx:\n\u001b[1;32m-> 1028\u001b[0m     \u001b[38;5;28;43mself\u001b[39;49m\u001b[38;5;241;43m.\u001b[39;49m\u001b[43mrecache\u001b[49m\u001b[43m(\u001b[49m\u001b[43m)\u001b[49m\n\u001b[0;32m   1029\u001b[0m \u001b[38;5;28;01mreturn\u001b[39;00m \u001b[38;5;28mself\u001b[39m\u001b[38;5;241m.\u001b[39m_path\n",
      "File \u001b[1;32m~\\AppData\\Roaming\\Python\\Python311\\site-packages\\matplotlib\\lines.py:668\u001b[0m, in \u001b[0;36mLine2D.recache\u001b[1;34m(self, always)\u001b[0m\n\u001b[0;32m    665\u001b[0m \u001b[38;5;28;01melse\u001b[39;00m:\n\u001b[0;32m    666\u001b[0m     y \u001b[38;5;241m=\u001b[39m \u001b[38;5;28mself\u001b[39m\u001b[38;5;241m.\u001b[39m_y\n\u001b[1;32m--> 668\u001b[0m \u001b[38;5;28mself\u001b[39m\u001b[38;5;241m.\u001b[39m_xy \u001b[38;5;241m=\u001b[39m np\u001b[38;5;241m.\u001b[39mcolumn_stack(np\u001b[38;5;241m.\u001b[39mbroadcast_arrays(x, y))\u001b[38;5;241m.\u001b[39mastype(\u001b[38;5;28mfloat\u001b[39m)\n\u001b[0;32m    669\u001b[0m \u001b[38;5;28mself\u001b[39m\u001b[38;5;241m.\u001b[39m_x, \u001b[38;5;28mself\u001b[39m\u001b[38;5;241m.\u001b[39m_y \u001b[38;5;241m=\u001b[39m \u001b[38;5;28mself\u001b[39m\u001b[38;5;241m.\u001b[39m_xy\u001b[38;5;241m.\u001b[39mT  \u001b[38;5;66;03m# views\u001b[39;00m\n\u001b[0;32m    671\u001b[0m \u001b[38;5;28mself\u001b[39m\u001b[38;5;241m.\u001b[39m_subslice \u001b[38;5;241m=\u001b[39m \u001b[38;5;28;01mFalse\u001b[39;00m\n",
      "\u001b[1;31mKeyboardInterrupt\u001b[0m: "
     ]
    },
    {
     "data": {
      "image/png": "[encoded data removed]",
      "text/plain": [
       "<Figure size 1000x500 with 1 Axes>"
      ]
     },
     "metadata": {},
     "output_type": "display_data"
    }
   ],
   "source": [
    "pca = PCA(n_components=40)  # Reduce to 40 dimensions (chosen from Scree Plot)\n",
    "scaled_data_pca = pca.fit_transform(scaled_data)  # Transform data\n",
    "\n",
    "# Compute hierarchical clustering\n",
    "linkage_matrix = linkage(scaled_data_pca, method='ward')  # Ward's method for variance minimisation\n",
    "\n",
    "# Plot dendrogram\n",
    "plt.figure(figsize=(10, 5))\n",
    "dendrogram(linkage_matrix)\n",
    "plt.axhline(y=250, color='r', linestyle='--')  # Adjust threshold based on the plot\n",
    "plt.title('Hierarchical Clustering Dendrogram')\n",
    "plt.xlabel('Samples')\n",
    "plt.ylabel('Distance')\n",
    "plt.show()"
   ]
  },
  {
   "cell_type": "code",
   "execution_count": 11,
   "metadata": {},
   "outputs": [
    {
     "name": "stdout",
     "output_type": "stream",
     "text": [
      "[1 0 0 ... 0 0 1]\n"
     ]
    }
   ],
   "source": [
    "# Train BIRCH on historical data\n",
    "birch = Birch(threshold=0.5, branching_factor=50, n_clusters=3) # Number of clusters are decided from hierarchical clustering\n",
    "birch.fit(scaled_data_pca)\n",
    "\n",
    "birch_labels = birch.predict(scaled_data_pca)\n",
    "print(birch_labels)"
   ]
  },
  {
   "cell_type": "code",
   "execution_count": 27,
   "metadata": {},
   "outputs": [
    {
     "data": {
      "image/png": "[encoded data removed]",
      "text/plain": [
       "<Figure size 1000x600 with 1 Axes>"
      ]
     },
     "metadata": {},
     "output_type": "display_data"
    }
   ],
   "source": [
    "# Get subclusters\n",
    "subcluster_centers = birch.subcluster_centers_\n",
    "\n",
    "# Perform hierarchical clustering on subclusters\n",
    "Z = linkage(subcluster_centers, method='ward')\n",
    "\n",
    "# Plot dendrogram\n",
    "plt.figure(figsize=(10, 6))\n",
    "dendrogram(Z)\n",
    "plt.axhline(y=250, color='r', linestyle='--')  # Adjust threshold based on the plot\n",
    "plt.title(\"Dendrogram of BIRCH Subclusters\")\n",
    "plt.xlabel(\"Subcluster Index\")\n",
    "plt.ylabel(\"Distance\")\n",
    "plt.show()"
   ]
  },
  {
   "cell_type": "code",
   "execution_count": null,
   "metadata": {},
   "outputs": [
    {
     "name": "stdout",
     "output_type": "stream",
     "text": [
      "Tested row assigned to cluster: 2\n"
     ]
    }
   ],
   "source": [
    "# Test the real-time segmentation capabilities of BIRCH\n",
    "sample_data = scaled_data_pca[900,].reshape(1, -1) # Take a random sample from the dataset or create a new sample\n",
    "\n",
    "# Test the row\n",
    "predicted_cluster = birch.predict(sample_data)\n",
    "print(f\"Tested row assigned to cluster: {predicted_cluster[0]}\")"
   ]
  },
  {
   "cell_type": "code",
   "execution_count": null,
   "metadata": {},
   "outputs": [
    {
     "name": "stdout",
     "output_type": "stream",
     "text": [
      "(9429, 17)\n"
     ]
    }
   ],
   "source": [
    "# Add clusters to the customers dataset\n",
    "birch_labels_df = pd.DataFrame(birch_labels, columns=['Cluster'])\n",
    "\n",
    "customer_data_with_clusters = pd.concat([customer_data.reset_index(drop=True), birch_labels_df.reset_index(drop=True)], axis=1)\n",
    "print(customer_data_with_clusters.shape)"
   ]
  },
  {
   "cell_type": "code",
   "execution_count": null,
   "metadata": {},
   "outputs": [],
   "source": [
    "# Save dataframe to a csv file\n",
    "customer_data_with_clusters.to_csv('customers_with_clusters.csv', index=False)"
   ]
  }
 ],
 "metadata": {
  "kernelspec": {
   "display_name": "base",
   "language": "python",
   "name": "python3"
  },
  "language_info": {
   "codemirror_mode": {
    "name": "ipython",
    "version": 3
   },
   "file_extension": ".py",
   "mimetype": "text/x-python",
   "name": "python",
   "nbconvert_exporter": "python",
   "pygments_lexer": "ipython3",
   "version": "3.11.4"
  }
 },
 "nbformat": 4,
 "nbformat_minor": 2
}
